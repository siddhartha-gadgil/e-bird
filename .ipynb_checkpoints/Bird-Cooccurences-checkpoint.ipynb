{
 "cells": [
  {
   "cell_type": "markdown",
   "metadata": {},
   "source": [
    "# Bird Co-occurences\n",
    "### Analyzing Indian ebird data of co-occurences for habitats and geography"
   ]
  },
  {
   "cell_type": "markdown",
   "metadata": {},
   "source": [
    "We analyze the e-bird data for _co-occurences_ of species, i.e., species occuring together more than expected by their separate frequencies. We can formulate this as the following question\n",
    "\n",
    "### Question: What causes bird species to occur together?\n",
    "\n",
    "We shall see that such _co-occurences_ occur for two reasons - geography and habitat.\n",
    "\n",
    "With more data, one can reverse this analysis and divide India into geographical regions and habitats, from a _bird's eye view_, based on co-occurences. Clearly the present e-bird data is inadequate for this as we only see some regions and habitats in it.\n",
    "\n",
    "**Code:** This is a jupyter notebook written in scala."
   ]
  },
  {
   "cell_type": "markdown",
   "metadata": {},
   "source": [
    "## Setup and loading data\n",
    "\n",
    "We first add all our dependencies, both our own code and other stuff on which it depends. The code here is  on the repository for some of our other code at [Proving-Ground](https://github.com/siddhartha-gadgil/ProvingGround)"
   ]
  },
  {
   "cell_type": "code",
   "execution_count": 1,
   "metadata": {
    "collapsed": false
   },
   "outputs": [
    {
     "data": {
      "text/plain": [
       "\u001b[32mimport \u001b[39m\u001b[36mammonite.ops._\u001b[39m"
      ]
     },
     "execution_count": 1,
     "metadata": {},
     "output_type": "execute_result"
    }
   ],
   "source": [
    "import ammonite.ops._"
   ]
  },
  {
   "cell_type": "markdown",
   "metadata": {},
   "source": [
    "The e-bird data has been pre-processed (not in this notebook) and saved in various files. \n",
    "We first read how many checklists contain a given bird, and how many contain both birds in a pair."
   ]
  },
  {
   "cell_type": "code",
   "execution_count": 2,
   "metadata": {
    "collapsed": false
   },
   "outputs": [
    {
     "data": {
      "text/plain": [
       "\u001b[36mdata\u001b[39m: \u001b[32mpwd\u001b[39m.\u001b[32mThisType\u001b[39m = root/\u001b[32m'home\u001b[39m/\u001b[32m'gadgil\u001b[39m/\u001b[32m'code\u001b[39m/\u001b[32m\"e-bird\"\u001b[39m/\u001b[32m'data\u001b[39m"
      ]
     },
     "execution_count": 2,
     "metadata": {},
     "output_type": "execute_result"
    }
   ],
   "source": [
    "val data = pwd / 'data"
   ]
  },
  {
   "cell_type": "code",
   "execution_count": 3,
   "metadata": {
    "collapsed": false
   },
   "outputs": [
    {
     "data": {
      "text/plain": [
       "\u001b[36mfreqF\u001b[39m: \u001b[32mdata\u001b[39m.\u001b[32mThisType\u001b[39m = root/\u001b[32m'home\u001b[39m/\u001b[32m'gadgil\u001b[39m/\u001b[32m'code\u001b[39m/\u001b[32m\"e-bird\"\u001b[39m/\u001b[32m'data\u001b[39m/\u001b[32m\"frequencies.tsv\"\u001b[39m\n",
       "\u001b[36mfreqs\u001b[39m: \u001b[32mcollection\u001b[39m.\u001b[32mmutable\u001b[39m.\u001b[32mWrappedArray\u001b[39m[(\u001b[32mString\u001b[39m, \u001b[32mInt\u001b[39m)] = \u001b[33mWrappedArray\u001b[39m(\n",
       "  (\u001b[32m\"Corvus splendens\"\u001b[39m, \u001b[32m12538\u001b[39m),\n",
       "  (\u001b[32m\"Acridotheres tristis\"\u001b[39m, \u001b[32m12509\u001b[39m),\n",
       "  (\u001b[32m\"Halcyon smyrnensis\"\u001b[39m, \u001b[32m11176\u001b[39m),\n",
       "  (\u001b[32m\"Corvus macrorhynchos\"\u001b[39m, \u001b[32m10495\u001b[39m),\n",
       "  (\u001b[32m\"Dicrurus macrocercus\"\u001b[39m, \u001b[32m9785\u001b[39m),\n",
       "  (\u001b[32m\"Ardeola grayii\"\u001b[39m, \u001b[32m9660\u001b[39m),\n",
       "  (\u001b[32m\"Pycnonotus cafer\"\u001b[39m, \u001b[32m9551\u001b[39m),\n",
       "  (\u001b[32m\"Pycnonotus jocosus\"\u001b[39m, \u001b[32m8892\u001b[39m),\n",
       "  (\u001b[32m\"Streptopelia chinensis\"\u001b[39m, \u001b[32m8817\u001b[39m),\n",
       "  (\u001b[32m\"Orthotomus sutorius\"\u001b[39m, \u001b[32m8780\u001b[39m),\n",
       "  (\u001b[32m\"Copsychus saularis\"\u001b[39m, \u001b[32m8545\u001b[39m),\n",
       "  (\u001b[32m\"Centropus sinensis\"\u001b[39m, \u001b[32m8394\u001b[39m),\n",
       "  (\u001b[32m\"Psilopogon viridis\"\u001b[39m, \u001b[32m8126\u001b[39m),\n",
       "  (\u001b[32m\"Psittacula krameri\"\u001b[39m, \u001b[32m7858\u001b[39m),\n",
       "  (\u001b[32m\"Columba livia\"\u001b[39m, \u001b[32m7658\u001b[39m),\n",
       "  (\u001b[32m\"Milvus migrans\"\u001b[39m, \u001b[32m7596\u001b[39m),\n",
       "  (\u001b[32m\"Leptocoma zeylonica\"\u001b[39m, \u001b[32m7447\u001b[39m),\n",
       "  (\u001b[32m\"Microcarbo niger\"\u001b[39m, \u001b[32m7419\u001b[39m),\n",
       "  (\u001b[32m\"Eudynamys scolopaceus\"\u001b[39m, \u001b[32m7410\u001b[39m),\n",
       "  (\u001b[32m\"Bubulcus ibis\"\u001b[39m, \u001b[32m7334\u001b[39m),\n",
       "  (\u001b[32m\"Vanellus indicus\"\u001b[39m, \u001b[32m7301\u001b[39m),\n",
       "  (\u001b[32m\"Haliastur indus\"\u001b[39m, \u001b[32m6722\u001b[39m),\n",
       "  (\u001b[32m\"Dendrocitta vagabunda\"\u001b[39m, \u001b[32m6716\u001b[39m),\n",
       "  (\u001b[32m\"Merops orientalis\"\u001b[39m, \u001b[32m6490\u001b[39m),\n",
       "  (\u001b[32m\"Egretta garzetta\"\u001b[39m, \u001b[32m5873\u001b[39m),\n",
       "  (\u001b[32m\"Prinia socialis\"\u001b[39m, \u001b[32m5819\u001b[39m),\n",
       "  (\u001b[32m\"Cinnyris asiaticus\"\u001b[39m, \u001b[32m5505\u001b[39m),\n",
       "  (\u001b[32m\"Turdoides striata\"\u001b[39m, \u001b[32m4699\u001b[39m),\n",
       "  (\u001b[32m\"Dinopium benghalense\"\u001b[39m, \u001b[32m4496\u001b[39m),\n",
       "  (\u001b[32m\"Acridotheres fuscus\"\u001b[39m, \u001b[32m4442\u001b[39m),\n",
       "  (\u001b[32m\"Hirundo rustica\"\u001b[39m, \u001b[32m4242\u001b[39m),\n",
       "  (\u001b[32m\"Psilopogon haemacephalus\"\u001b[39m, \u001b[32m4116\u001b[39m),\n",
       "  (\u001b[32m\"Dicaeum erythrorhynchos\"\u001b[39m, \u001b[32m4114\u001b[39m),\n",
       "  (\u001b[32m\"Pavo cristatus\"\u001b[39m, \u001b[32m3971\u001b[39m),\n",
       "  (\u001b[32m\"Mesophoyx intermedia\"\u001b[39m, \u001b[32m3945\u001b[39m),\n",
       "  (\u001b[32m\"Amaurornis phoenicurus\"\u001b[39m, \u001b[32m3919\u001b[39m),\n",
       "  (\u001b[32m\"Turdoides affinis\"\u001b[39m, \u001b[32m3906\u001b[39m),\n",
       "  (\u001b[32m\"Aegithina tiphia\"\u001b[39m, \u001b[32m3754\u001b[39m),\n",
       "..."
      ]
     },
     "execution_count": 3,
     "metadata": {},
     "output_type": "execute_result"
    }
   ],
   "source": [
    "val freqF = data / \"frequencies.tsv\"\n",
    "val freqs = read.lines(freqF) map (_.split(\"\\t\")) map {case Array(a, n) => (a, n.toInt)} sortBy((an) => - an._2)"
   ]
  },
  {
   "cell_type": "code",
   "execution_count": 4,
   "metadata": {
    "collapsed": false
   },
   "outputs": [
    {
     "data": {
      "text/plain": [
       "\u001b[36mcoF\u001b[39m: \u001b[32mdata\u001b[39m.\u001b[32mThisType\u001b[39m = root/\u001b[32m'home\u001b[39m/\u001b[32m'gadgil\u001b[39m/\u001b[32m'code\u001b[39m/\u001b[32m\"e-bird\"\u001b[39m/\u001b[32m'data\u001b[39m/\u001b[32m\"co-occurences.tsv\"\u001b[39m\n",
       "defined \u001b[32mfunction\u001b[39m \u001b[36mpairs\u001b[39m"
      ]
     },
     "execution_count": 4,
     "metadata": {},
     "output_type": "execute_result"
    }
   ],
   "source": [
    "val coF = data /\"co-occurences.tsv\"\n",
    "def pairs = read.lines(coF) map (_.split(\"\\t\")) map {case Array(a, b, n) => (a, b, n.toInt)}"
   ]
  },
  {
   "cell_type": "markdown",
   "metadata": {},
   "source": [
    "We use scientific names for analysis, but we also have extracted common names since they are nicer to see."
   ]
  },
  {
   "cell_type": "code",
   "execution_count": 5,
   "metadata": {
    "collapsed": false
   },
   "outputs": [
    {
     "data": {
      "text/plain": [
       "\u001b[36mcommonF\u001b[39m: \u001b[32mdata\u001b[39m.\u001b[32mThisType\u001b[39m = root/\u001b[32m'home\u001b[39m/\u001b[32m'gadgil\u001b[39m/\u001b[32m'code\u001b[39m/\u001b[32m\"e-bird\"\u001b[39m/\u001b[32m'data\u001b[39m/\u001b[32m\"common-names.tsv\"\u001b[39m\n",
       "\u001b[36mcommonNames\u001b[39m: \u001b[32mMap\u001b[39m[\u001b[32mString\u001b[39m, \u001b[32mString\u001b[39m] = \u001b[33mMap\u001b[39m(\n",
       "  \u001b[32m\"Clamator coromandus\"\u001b[39m -> \u001b[32m\"Chestnut-winged Cuckoo\"\u001b[39m,\n",
       "  \u001b[32m\"Alauda arvensis/gulgula\"\u001b[39m -> \u001b[32m\"Eurasian/Oriental Skylark\"\u001b[39m,\n",
       "  \u001b[32m\"Ardenna carneipes\"\u001b[39m -> \u001b[32m\"Flesh-footed Shearwater\"\u001b[39m,\n",
       "  \u001b[32m\"Ichthyophaga ichthyaetus\"\u001b[39m -> \u001b[32m\"Gray-headed Fish-Eagle\"\u001b[39m,\n",
       "  \u001b[32m\"Otus lettia\"\u001b[39m -> \u001b[32m\"Collared Scops-Owl\"\u001b[39m,\n",
       "  \u001b[32m\"Aythya nyroca\"\u001b[39m -> \u001b[32m\"Ferruginous Duck\"\u001b[39m,\n",
       "  \u001b[32m\"Aegithalos iouschistos\"\u001b[39m -> \u001b[32m\"Black-browed Tit\"\u001b[39m,\n",
       "  \u001b[32m\"Anatidae sp.\"\u001b[39m -> \u001b[32m\"waterfowl sp.\"\u001b[39m,\n",
       "  \u001b[32m\"Cinclidium leucurum\"\u001b[39m -> \u001b[32m\"White-tailed Robin\"\u001b[39m,\n",
       "  \u001b[32m\"Xenus cinereus\"\u001b[39m -> \u001b[32m\"Terek Sandpiper\"\u001b[39m,\n",
       "  \u001b[32m\"Horornis flavolivaceus\"\u001b[39m -> \u001b[32m\"Aberrant Bush-Warbler\"\u001b[39m,\n",
       "  \u001b[32m\"Catreus wallichii\"\u001b[39m -> \u001b[32m\"Cheer Pheasant\"\u001b[39m,\n",
       "  \u001b[32m\"Accipiter butleri\"\u001b[39m -> \u001b[32m\"Nicobar Sparrowhawk\"\u001b[39m,\n",
       "  \u001b[32m\"Merops apiaster\"\u001b[39m -> \u001b[32m\"European Bee-eater\"\u001b[39m,\n",
       "  \u001b[32m\"Psittacula eupatria\"\u001b[39m -> \u001b[32m\"Alexandrine Parakeet\"\u001b[39m,\n",
       "  \u001b[32m\"Hydroprogne caspia\"\u001b[39m -> \u001b[32m\"Caspian Tern\"\u001b[39m,\n",
       "  \u001b[32m\"Elachura formosa\"\u001b[39m -> \u001b[32m\"Spotted Elachura\"\u001b[39m,\n",
       "  \u001b[32m\"Corvus macrorhynchos\"\u001b[39m -> \u001b[32m\"Large-billed Crow\"\u001b[39m,\n",
       "  \u001b[32m\"Dryocopus javensis\"\u001b[39m -> \u001b[32m\"White-bellied Woodpecker\"\u001b[39m,\n",
       "  \u001b[32m\"Aviceda leuphotes\"\u001b[39m -> \u001b[32m\"Black Baza\"\u001b[39m,\n",
       "  \u001b[32m\"Psilopogon malabaricus/haemacephalus\"\u001b[39m -> \u001b[32m\"Malabar/Coppersmith Barbet\"\u001b[39m,\n",
       "  \u001b[32m\"Anthus trivialis\"\u001b[39m -> \u001b[32m\"Tree Pipit\"\u001b[39m,\n",
       "  \u001b[32m\"Ardea alba\"\u001b[39m -> \u001b[32m\"Great Egret\"\u001b[39m,\n",
       "  \u001b[32m\"Acridotheres grandis\"\u001b[39m -> \u001b[32m\"Great Myna\"\u001b[39m,\n",
       "  \u001b[32m\"Rhyticeros undulatus\"\u001b[39m -> \u001b[32m\"Wreathed Hornbill\"\u001b[39m,\n",
       "  \u001b[32m\"Tarsiger chrysaeus\"\u001b[39m -> \u001b[32m\"Golden Bush-Robin\"\u001b[39m,\n",
       "  \u001b[32m\"Dendrocitta formosae\"\u001b[39m -> \u001b[32m\"Gray Treepie\"\u001b[39m,\n",
       "  \u001b[32m\"Carpodacus sp.\"\u001b[39m -> \u001b[32m\"rosefinch sp.\"\u001b[39m,\n",
       "  \u001b[32m\"Rynchops albicollis\"\u001b[39m -> \u001b[32m\"Indian Skimmer\"\u001b[39m,\n",
       "  \u001b[32m\"Locustella certhiola\"\u001b[39m -> \u001b[32m\"Pallas's Grasshopper-Warbler\"\u001b[39m,\n",
       "  \u001b[32m\"Dicrurus annectans\"\u001b[39m -> \u001b[32m\"Crow-billed Drongo\"\u001b[39m,\n",
       "  \u001b[32m\"Nisaetus cirrhatus\"\u001b[39m -> \u001b[32m\"Crested Hawk-Eagle\"\u001b[39m,\n",
       "  \u001b[32m\"Mycteria leucocephala\"\u001b[39m -> \u001b[32m\"Painted Stork\"\u001b[39m,\n",
       "  \u001b[32m\"Glareola sp.\"\u001b[39m -> \u001b[32m\"pratincole sp.\"\u001b[39m,\n",
       "  \u001b[32m\"Ichthyaetus ichthyaetus\"\u001b[39m -> \u001b[32m\"Pallas's Gull\"\u001b[39m,\n",
       "  \u001b[32m\"Zosterops palpebrosus\"\u001b[39m -> \u001b[32m\"Oriental White-eye\"\u001b[39m,\n",
       "  \u001b[32m\"Yuhina flavicollis\"\u001b[39m -> \u001b[32m\"Whiskered Yuhina\"\u001b[39m,\n",
       "  \u001b[32m\"Certhia himalayana\"\u001b[39m -> \u001b[32m\"Bar-tailed Treecreeper\"\u001b[39m,\n",
       "..."
      ]
     },
     "execution_count": 5,
     "metadata": {},
     "output_type": "execute_result"
    }
   ],
   "source": [
    "val commonF = data / \"common-names.tsv\"\n",
    "val commonNames = read.lines(commonF) map (_.split(\"\\t\")) map {case Array(sc, comm) => (sc, comm)} toMap"
   ]
  },
  {
   "cell_type": "markdown",
   "metadata": {},
   "source": [
    "Let us look at the 250 most common birds, where how common is measured by how many checklists contain a bird."
   ]
  },
  {
   "cell_type": "code",
   "execution_count": 6,
   "metadata": {
    "collapsed": false
   },
   "outputs": [
    {
     "data": {
      "text/plain": [
       "\u001b[36mtop250\u001b[39m: \u001b[32mcollection\u001b[39m.\u001b[32mmutable\u001b[39m.\u001b[32mWrappedArray\u001b[39m[\u001b[32mString\u001b[39m] = \u001b[33mWrappedArray\u001b[39m(\n",
       "  \u001b[32m\"Corvus splendens\"\u001b[39m,\n",
       "  \u001b[32m\"Acridotheres tristis\"\u001b[39m,\n",
       "  \u001b[32m\"Halcyon smyrnensis\"\u001b[39m,\n",
       "  \u001b[32m\"Corvus macrorhynchos\"\u001b[39m,\n",
       "  \u001b[32m\"Dicrurus macrocercus\"\u001b[39m,\n",
       "  \u001b[32m\"Ardeola grayii\"\u001b[39m,\n",
       "  \u001b[32m\"Pycnonotus cafer\"\u001b[39m,\n",
       "  \u001b[32m\"Pycnonotus jocosus\"\u001b[39m,\n",
       "  \u001b[32m\"Streptopelia chinensis\"\u001b[39m,\n",
       "  \u001b[32m\"Orthotomus sutorius\"\u001b[39m,\n",
       "  \u001b[32m\"Copsychus saularis\"\u001b[39m,\n",
       "  \u001b[32m\"Centropus sinensis\"\u001b[39m,\n",
       "  \u001b[32m\"Psilopogon viridis\"\u001b[39m,\n",
       "  \u001b[32m\"Psittacula krameri\"\u001b[39m,\n",
       "  \u001b[32m\"Columba livia\"\u001b[39m,\n",
       "  \u001b[32m\"Milvus migrans\"\u001b[39m,\n",
       "  \u001b[32m\"Leptocoma zeylonica\"\u001b[39m,\n",
       "  \u001b[32m\"Microcarbo niger\"\u001b[39m,\n",
       "  \u001b[32m\"Eudynamys scolopaceus\"\u001b[39m,\n",
       "  \u001b[32m\"Bubulcus ibis\"\u001b[39m,\n",
       "  \u001b[32m\"Vanellus indicus\"\u001b[39m,\n",
       "  \u001b[32m\"Haliastur indus\"\u001b[39m,\n",
       "  \u001b[32m\"Dendrocitta vagabunda\"\u001b[39m,\n",
       "  \u001b[32m\"Merops orientalis\"\u001b[39m,\n",
       "  \u001b[32m\"Egretta garzetta\"\u001b[39m,\n",
       "  \u001b[32m\"Prinia socialis\"\u001b[39m,\n",
       "  \u001b[32m\"Cinnyris asiaticus\"\u001b[39m,\n",
       "  \u001b[32m\"Turdoides striata\"\u001b[39m,\n",
       "  \u001b[32m\"Dinopium benghalense\"\u001b[39m,\n",
       "  \u001b[32m\"Acridotheres fuscus\"\u001b[39m,\n",
       "  \u001b[32m\"Hirundo rustica\"\u001b[39m,\n",
       "  \u001b[32m\"Psilopogon haemacephalus\"\u001b[39m,\n",
       "  \u001b[32m\"Dicaeum erythrorhynchos\"\u001b[39m,\n",
       "  \u001b[32m\"Pavo cristatus\"\u001b[39m,\n",
       "  \u001b[32m\"Mesophoyx intermedia\"\u001b[39m,\n",
       "  \u001b[32m\"Amaurornis phoenicurus\"\u001b[39m,\n",
       "  \u001b[32m\"Turdoides affinis\"\u001b[39m,\n",
       "  \u001b[32m\"Aegithina tiphia\"\u001b[39m,\n",
       "...\n",
       "\u001b[36mres5_1\u001b[39m: \u001b[32mcollection\u001b[39m.\u001b[32mmutable\u001b[39m.\u001b[32mWrappedArray\u001b[39m[(\u001b[32mString\u001b[39m, \u001b[32mInt\u001b[39m)] = \u001b[33mWrappedArray\u001b[39m(\n",
       "  (\u001b[32m\"House Crow\"\u001b[39m, \u001b[32m0\u001b[39m),\n",
       "  (\u001b[32m\"Common Myna\"\u001b[39m, \u001b[32m1\u001b[39m),\n",
       "  (\u001b[32m\"White-throated Kingfisher\"\u001b[39m, \u001b[32m2\u001b[39m),\n",
       "  (\u001b[32m\"Large-billed Crow\"\u001b[39m, \u001b[32m3\u001b[39m),\n",
       "  (\u001b[32m\"Black Drongo\"\u001b[39m, \u001b[32m4\u001b[39m),\n",
       "  (\u001b[32m\"Indian Pond-Heron\"\u001b[39m, \u001b[32m5\u001b[39m),\n",
       "  (\u001b[32m\"Red-vented Bulbul\"\u001b[39m, \u001b[32m6\u001b[39m),\n",
       "  (\u001b[32m\"Red-whiskered Bulbul\"\u001b[39m, \u001b[32m7\u001b[39m),\n",
       "  (\u001b[32m\"Spotted Dove\"\u001b[39m, \u001b[32m8\u001b[39m),\n",
       "  (\u001b[32m\"Common Tailorbird\"\u001b[39m, \u001b[32m9\u001b[39m),\n",
       "  (\u001b[32m\"Oriental Magpie-Robin\"\u001b[39m, \u001b[32m10\u001b[39m),\n",
       "  (\u001b[32m\"Greater Coucal\"\u001b[39m, \u001b[32m11\u001b[39m),\n",
       "  (\u001b[32m\"White-cheeked Barbet\"\u001b[39m, \u001b[32m12\u001b[39m),\n",
       "  (\u001b[32m\"Rose-ringed Parakeet\"\u001b[39m, \u001b[32m13\u001b[39m),\n",
       "  (\u001b[32m\"Rock Pigeon\"\u001b[39m, \u001b[32m14\u001b[39m),\n",
       "  (\u001b[32m\"Black Kite\"\u001b[39m, \u001b[32m15\u001b[39m),\n",
       "  (\u001b[32m\"Purple-rumped Sunbird\"\u001b[39m, \u001b[32m16\u001b[39m),\n",
       "  (\u001b[32m\"Little Cormorant\"\u001b[39m, \u001b[32m17\u001b[39m),\n",
       "  (\u001b[32m\"Asian Koel\"\u001b[39m, \u001b[32m18\u001b[39m),\n",
       "  (\u001b[32m\"Cattle Egret\"\u001b[39m, \u001b[32m19\u001b[39m),\n",
       "  (\u001b[32m\"Red-wattled Lapwing\"\u001b[39m, \u001b[32m20\u001b[39m),\n",
       "  (\u001b[32m\"Brahminy Kite\"\u001b[39m, \u001b[32m21\u001b[39m),\n",
       "  (\u001b[32m\"Rufous Treepie\"\u001b[39m, \u001b[32m22\u001b[39m),\n",
       "  (\u001b[32m\"Green Bee-eater\"\u001b[39m, \u001b[32m23\u001b[39m),\n",
       "  (\u001b[32m\"Little Egret\"\u001b[39m, \u001b[32m24\u001b[39m),\n",
       "  (\u001b[32m\"Ashy Prinia\"\u001b[39m, \u001b[32m25\u001b[39m),\n",
       "  (\u001b[32m\"Purple Sunbird\"\u001b[39m, \u001b[32m26\u001b[39m),\n",
       "  (\u001b[32m\"Jungle Babbler\"\u001b[39m, \u001b[32m27\u001b[39m),\n",
       "  (\u001b[32m\"Black-rumped Flameback\"\u001b[39m, \u001b[32m28\u001b[39m),\n",
       "  (\u001b[32m\"Jungle Myna\"\u001b[39m, \u001b[32m29\u001b[39m),\n",
       "  (\u001b[32m\"Barn Swallow\"\u001b[39m, \u001b[32m30\u001b[39m),\n",
       "  (\u001b[32m\"Coppersmith Barbet\"\u001b[39m, \u001b[32m31\u001b[39m),\n",
       "  (\u001b[32m\"Pale-billed Flowerpecker\"\u001b[39m, \u001b[32m32\u001b[39m),\n",
       "  (\u001b[32m\"Indian Peafowl\"\u001b[39m, \u001b[32m33\u001b[39m),\n",
       "  (\u001b[32m\"Intermediate Egret\"\u001b[39m, \u001b[32m34\u001b[39m),\n",
       "  (\u001b[32m\"White-breasted Waterhen\"\u001b[39m, \u001b[32m35\u001b[39m),\n",
       "  (\u001b[32m\"Yellow-billed Babbler\"\u001b[39m, \u001b[32m36\u001b[39m),\n",
       "  (\u001b[32m\"Common Iora\"\u001b[39m, \u001b[32m37\u001b[39m),\n",
       "..."
      ]
     },
     "execution_count": 6,
     "metadata": {},
     "output_type": "execute_result"
    }
   ],
   "source": [
    "val top250 = freqs.take(250).map(_._1)\n",
    "(top250 map (commonNames)).zipWithIndex"
   ]
  },
  {
   "cell_type": "markdown",
   "metadata": {},
   "source": [
    "We shall analyse which birds are seen together, but focussing attention on pairs with both among the top 250. This is because when we map birds to vectors, if we include all birds then the common ones cluster together."
   ]
  },
  {
   "cell_type": "code",
   "execution_count": 7,
   "metadata": {
    "collapsed": false
   },
   "outputs": [
    {
     "data": {
      "text/plain": [
       "\u001b[36mtopSet\u001b[39m: \u001b[32mSet\u001b[39m[\u001b[32mString\u001b[39m] = \u001b[33mSet\u001b[39m(\n",
       "  \u001b[32m\"Psittacula eupatria\"\u001b[39m,\n",
       "  \u001b[32m\"Corvus macrorhynchos\"\u001b[39m,\n",
       "  \u001b[32m\"Ardea alba\"\u001b[39m,\n",
       "  \u001b[32m\"Mycteria leucocephala\"\u001b[39m,\n",
       "  \u001b[32m\"Zosterops palpebrosus\"\u001b[39m,\n",
       "  \u001b[32m\"Dendrocitta leucogastra\"\u001b[39m,\n",
       "  \u001b[32m\"Ploceus philippinus\"\u001b[39m,\n",
       "  \u001b[32m\"Artamus fuscus\"\u001b[39m,\n",
       "  \u001b[32m\"Cyornis tickelliae\"\u001b[39m,\n",
       "  \u001b[32m\"Platalea leucorodia\"\u001b[39m,\n",
       "  \u001b[32m\"Dicaeum agile\"\u001b[39m,\n",
       "  \u001b[32m\"Picus chlorolophus\"\u001b[39m,\n",
       "  \u001b[32m\"Eumyias thalassinus\"\u001b[39m,\n",
       "  \u001b[32m\"Dendrocopos nanus\"\u001b[39m,\n",
       "  \u001b[32m\"Acridotheres ginginianus\"\u001b[39m,\n",
       "  \u001b[32m\"Circus aeruginosus\"\u001b[39m,\n",
       "  \u001b[32m\"Merops leschenaulti\"\u001b[39m,\n",
       "  \u001b[32m\"Phaenicophaeus viridirostris\"\u001b[39m,\n",
       "  \u001b[32m\"Ficedula parva\"\u001b[39m,\n",
       "  \u001b[32m\"Ceryle rudis\"\u001b[39m,\n",
       "  \u001b[32m\"Streptopelia orientalis\"\u001b[39m,\n",
       "  \u001b[32m\"Lonchura malacca\"\u001b[39m,\n",
       "  \u001b[32m\"Ocyceros griseus\"\u001b[39m,\n",
       "  \u001b[32m\"Circaetus gallicus\"\u001b[39m,\n",
       "  \u001b[32m\"Gracula indica\"\u001b[39m,\n",
       "  \u001b[32m\"Pycnonotus leucogenys\"\u001b[39m,\n",
       "  \u001b[32m\"Aegithina tiphia\"\u001b[39m,\n",
       "  \u001b[32m\"Phylloscopus trochiloides\"\u001b[39m,\n",
       "  \u001b[32m\"Lanius vittatus\"\u001b[39m,\n",
       "  \u001b[32m\"Centropus sinensis\"\u001b[39m,\n",
       "  \u001b[32m\"Motacilla cinerea\"\u001b[39m,\n",
       "  \u001b[32m\"Ocyceros birostris\"\u001b[39m,\n",
       "  \u001b[32m\"Galloperdix spadicea\"\u001b[39m,\n",
       "  \u001b[32m\"Pelargopsis capensis\"\u001b[39m,\n",
       "  \u001b[32m\"Metopidius indicus\"\u001b[39m,\n",
       "  \u001b[32m\"Pericrocotus flammeus\"\u001b[39m,\n",
       "  \u001b[32m\"Vanellus indicus\"\u001b[39m,\n",
       "  \u001b[32m\"Dicaeum erythrorhynchos\"\u001b[39m,\n",
       "...\n",
       "\u001b[36mscientificNames\u001b[39m: \u001b[32mMap\u001b[39m[\u001b[32mString\u001b[39m, \u001b[32mString\u001b[39m] = \u001b[33mMap\u001b[39m(\n",
       "  \u001b[32m\"roller sp.\"\u001b[39m -> \u001b[32m\"Coracias sp.\"\u001b[39m,\n",
       "  \u001b[32m\"Whimbrel\"\u001b[39m -> \u001b[32m\"Numenius phaeopus\"\u001b[39m,\n",
       "  \u001b[32m\"Laughing Dove\"\u001b[39m -> \u001b[32m\"Streptopelia senegalensis\"\u001b[39m,\n",
       "  \u001b[32m\"Tawny-breasted Wren-Babbler\"\u001b[39m -> \u001b[32m\"Spelaeornis longicaudatus\"\u001b[39m,\n",
       "  \u001b[32m\"godwit sp.\"\u001b[39m -> \u001b[32m\"Limosa sp.\"\u001b[39m,\n",
       "  \u001b[32m\"White-breasted Waterhen\"\u001b[39m -> \u001b[32m\"Amaurornis phoenicurus\"\u001b[39m,\n",
       "  \u001b[32m\"Eurasian Wren\"\u001b[39m -> \u001b[32m\"Troglodytes troglodytes\"\u001b[39m,\n",
       "  \u001b[32m\"scops-owl sp.\"\u001b[39m -> \u001b[32m\"Otus sp.\"\u001b[39m,\n",
       "  \u001b[32m\"Indian Cuckoo\"\u001b[39m -> \u001b[32m\"Cuculus micropterus\"\u001b[39m,\n",
       "  \u001b[32m\"Siberian Blue Robin\"\u001b[39m -> \u001b[32m\"Larvivora cyane\"\u001b[39m,\n",
       "  \u001b[32m\"Velvet-fronted Nuthatch\"\u001b[39m -> \u001b[32m\"Sitta frontalis\"\u001b[39m,\n",
       "  \u001b[32m\"Indian Blue Robin\"\u001b[39m -> \u001b[32m\"Larvivora brunnea\"\u001b[39m,\n",
       "  \u001b[32m\"Crested Treeswift\"\u001b[39m -> \u001b[32m\"Hemiprocne coronata\"\u001b[39m,\n",
       "  \u001b[32m\"Tawny Eagle\"\u001b[39m -> \u001b[32m\"Aquila rapax\"\u001b[39m,\n",
       "  \u001b[32m\"Dusky Thrush\"\u001b[39m -> \u001b[32m\"Turdus eunomus\"\u001b[39m,\n",
       "  \u001b[32m\"Little Cormorant\"\u001b[39m -> \u001b[32m\"Microcarbo niger\"\u001b[39m,\n",
       "  \u001b[32m\"Rufous-vented Prinia\"\u001b[39m -> \u001b[32m\"Prinia burnesii\"\u001b[39m,\n",
       "  \u001b[32m\"Malabar Gray Hornbill\"\u001b[39m -> \u001b[32m\"Ocyceros griseus\"\u001b[39m,\n",
       "  \u001b[32m\"Great Slaty Woodpecker\"\u001b[39m -> \u001b[32m\"Mulleripicus pulverulentus\"\u001b[39m,\n",
       "  \u001b[32m\"Caspian Gull\"\u001b[39m -> \u001b[32m\"Larus cachinnans\"\u001b[39m,\n",
       "  \u001b[32m\"Plaintive/Gray-bellied Cuckoo\"\u001b[39m -> \u001b[32m\"Cacomantis merulinus/passerinus\"\u001b[39m,\n",
       "  \u001b[32m\"Rufous-chinned Laughingthrush\"\u001b[39m -> \u001b[32m\"Ianthocincla rufogularis\"\u001b[39m,\n",
       "  \u001b[32m\"Thick-billed Flowerpecker\"\u001b[39m -> \u001b[32m\"Dicaeum agile\"\u001b[39m,\n",
       "  \u001b[32m\"Great Bittern\"\u001b[39m -> \u001b[32m\"Botaurus stellaris\"\u001b[39m,\n",
       "  \u001b[32m\"Rufous-breasted Bush-Robin\"\u001b[39m -> \u001b[32m\"Tarsiger hyperythrus\"\u001b[39m,\n",
       "  \u001b[32m\"Rusty-throated Wren-Babbler\"\u001b[39m -> \u001b[32m\"Spelaeornis badeigularis\"\u001b[39m,\n",
       "  \u001b[32m\"hawk sp.\"\u001b[39m -> \u001b[32m\"Accipitridae sp. (hawk sp.)\"\u001b[39m,\n",
       "  \u001b[32m\"Cream-colored Courser\"\u001b[39m -> \u001b[32m\"Cursorius cursor\"\u001b[39m,\n",
       "  \u001b[32m\"Brownish-flanked Bush-Warbler\"\u001b[39m -> \u001b[32m\"Horornis fortipes\"\u001b[39m,\n",
       "  \u001b[32m\"Common Snipe\"\u001b[39m -> \u001b[32m\"Gallinago gallinago\"\u001b[39m,\n",
       "  \u001b[32m\"Bar-winged Wren-Babbler\"\u001b[39m -> \u001b[32m\"Spelaeornis troglodytoides\"\u001b[39m,\n",
       "  \u001b[32m\"Red-billed Leiothrix\"\u001b[39m -> \u001b[32m\"Leiothrix lutea\"\u001b[39m,\n",
       "  \u001b[32m\"Himalayan Monal\"\u001b[39m -> \u001b[32m\"Lophophorus impejanus\"\u001b[39m,\n",
       "  \u001b[32m\"Gull-billed Tern\"\u001b[39m -> \u001b[32m\"Gelochelidon nilotica\"\u001b[39m,\n",
       "  \u001b[32m\"Sapphire Flycatcher\"\u001b[39m -> \u001b[32m\"Ficedula sapphira\"\u001b[39m,\n",
       "  \u001b[32m\"Red-billed Blue-Magpie\"\u001b[39m -> \u001b[32m\"Urocissa erythroryncha\"\u001b[39m,\n",
       "  \u001b[32m\"Red-necked Stint\"\u001b[39m -> \u001b[32m\"Calidris ruficollis\"\u001b[39m,\n",
       "  \u001b[32m\"White-browed Bush-Robin\"\u001b[39m -> \u001b[32m\"Tarsiger indicus\"\u001b[39m,\n",
       "...\n",
       "\u001b[36mbothSeen\u001b[39m: \u001b[32mMap\u001b[39m[(\u001b[32mString\u001b[39m, \u001b[32mString\u001b[39m), \u001b[32mInt\u001b[39m] = \u001b[33mMap\u001b[39m(\n",
       "  (\u001b[32m\"Calidris temminckii\"\u001b[39m, \u001b[32m\"Coracias benghalensis\"\u001b[39m) -> \u001b[32m143\u001b[39m,\n",
       "  (\u001b[32m\"Galloperdix spadicea\"\u001b[39m, \u001b[32m\"Ardeola grayii\"\u001b[39m) -> \u001b[32m198\u001b[39m,\n",
       "  (\u001b[32m\"Threskiornis melanocephalus\"\u001b[39m, \u001b[32m\"Tephrodornis sylvicola\"\u001b[39m) -> \u001b[32m6\u001b[39m,\n",
       "  (\u001b[32m\"Tringa nebularia\"\u001b[39m, \u001b[32m\"Clamator jacobinus\"\u001b[39m) -> \u001b[32m59\u001b[39m,\n",
       "  (\u001b[32m\"Tringa nebularia\"\u001b[39m, \u001b[32m\"Elanus caeruleus\"\u001b[39m) -> \u001b[32m181\u001b[39m,\n",
       "  (\u001b[32m\"Tringa glareola\"\u001b[39m, \u001b[32m\"Vanellus malabaricus\"\u001b[39m) -> \u001b[32m157\u001b[39m,\n",
       "  (\u001b[32m\"Prinia hodgsonii\"\u001b[39m, \u001b[32m\"Micropternus brachyurus\"\u001b[39m) -> \u001b[32m90\u001b[39m,\n",
       "  (\u001b[32m\"Chlidonias hybrida\"\u001b[39m, \u001b[32m\"Dicrurus caerulescens\"\u001b[39m) -> \u001b[32m19\u001b[39m,\n",
       "  (\u001b[32m\"Dendrocitta leucogastra\"\u001b[39m, \u001b[32m\"Artamus fuscus\"\u001b[39m) -> \u001b[32m50\u001b[39m,\n",
       "  (\u001b[32m\"Egretta/Bubulcus sp.\"\u001b[39m, \u001b[32m\"Prinia socialis\"\u001b[39m) -> \u001b[32m212\u001b[39m,\n",
       "  (\u001b[32m\"Cisticola juncidis\"\u001b[39m, \u001b[32m\"Pseudibis papillosa\"\u001b[39m) -> \u001b[32m158\u001b[39m,\n",
       "  (\u001b[32m\"Pandion haliaetus\"\u001b[39m, \u001b[32m\"Psittacula eupatria\"\u001b[39m) -> \u001b[32m35\u001b[39m,\n",
       "  (\u001b[32m\"Vanellus malabaricus\"\u001b[39m, \u001b[32m\"Tringa stagnatilis\"\u001b[39m) -> \u001b[32m69\u001b[39m,\n",
       "  (\u001b[32m\"Nectariniidae sp. (sunbird sp.)\"\u001b[39m, \u001b[32m\"Sturnia malabarica\"\u001b[39m) -> \u001b[32m16\u001b[39m,\n",
       "  (\u001b[32m\"Dicaeum concolor\"\u001b[39m, \u001b[32m\"Rhipidura aureola\"\u001b[39m) -> \u001b[32m13\u001b[39m,\n",
       "  (\u001b[32m\"Ocyceros birostris\"\u001b[39m, \u001b[32m\"Irena puella\"\u001b[39m) -> \u001b[32m19\u001b[39m,\n",
       "  (\u001b[32m\"Pelargopsis capensis\"\u001b[39m, \u001b[32m\"Pernis ptilorhynchus\"\u001b[39m) -> \u001b[32m95\u001b[39m,\n",
       "  (\u001b[32m\"Prinia hodgsonii\"\u001b[39m, \u001b[32m\"Pernis ptilorhynchus\"\u001b[39m) -> \u001b[32m235\u001b[39m,\n",
       "  (\u001b[32m\"Halcyon smyrnensis\"\u001b[39m, \u001b[32m\"Saxicola caprata\"\u001b[39m) -> \u001b[32m2119\u001b[39m,\n",
       "  (\u001b[32m\"Sitta frontalis\"\u001b[39m, \u001b[32m\"Turdoides caudata\"\u001b[39m) -> \u001b[32m2\u001b[39m,\n",
       "  (\u001b[32m\"Phylloscopus xanthoschistos\"\u001b[39m, \u001b[32m\"Porphyrio poliocephalus\"\u001b[39m) -> \u001b[32m5\u001b[39m,\n",
       "  (\u001b[32m\"Anas poecilorhyncha\"\u001b[39m, \u001b[32m\"Streptopelia chinensis\"\u001b[39m) -> \u001b[32m1061\u001b[39m,\n",
       "  (\u001b[32m\"Lalage melanoptera\"\u001b[39m, \u001b[32m\"Iduna caligata\"\u001b[39m) -> \u001b[32m72\u001b[39m,\n",
       "  (\u001b[32m\"Dendrocitta vagabunda\"\u001b[39m, \u001b[32m\"Phoenicurus ochruros\"\u001b[39m) -> \u001b[32m300\u001b[39m,\n",
       "  (\u001b[32m\"Rhipidura albicollis\"\u001b[39m, \u001b[32m\"Chrysomma sinense\"\u001b[39m) -> \u001b[32m33\u001b[39m,\n",
       "  (\u001b[32m\"Sylvia curruca\"\u001b[39m, \u001b[32m\"Upupa epops\"\u001b[39m) -> \u001b[32m190\u001b[39m,\n",
       "  (\u001b[32m\"Anas crecca\"\u001b[39m, \u001b[32m\"Pavo cristatus\"\u001b[39m) -> \u001b[32m223\u001b[39m,\n",
       "  (\u001b[32m\"Turdoides caudata\"\u001b[39m, \u001b[32m\"Motacilla flava\"\u001b[39m) -> \u001b[32m83\u001b[39m,\n",
       "  (\u001b[32m\"Anser indicus\"\u001b[39m, \u001b[32m\"Pelargopsis capensis\"\u001b[39m) -> \u001b[32m28\u001b[39m,\n",
       "  (\u001b[32m\"Cinnyris asiaticus\"\u001b[39m, \u001b[32m\"Mycteria leucocephala\"\u001b[39m) -> \u001b[32m666\u001b[39m,\n",
       "  (\u001b[32m\"Athene brama\"\u001b[39m, \u001b[32m\"Passer domesticus\"\u001b[39m) -> \u001b[32m389\u001b[39m,\n",
       "  (\u001b[32m\"Chloropsis jerdoni\"\u001b[39m, \u001b[32m\"Athene brama\"\u001b[39m) -> \u001b[32m62\u001b[39m,\n",
       "  (\u001b[32m\"Himantopus himantopus\"\u001b[39m, \u001b[32m\"Cecropis daurica\"\u001b[39m) -> \u001b[32m504\u001b[39m,\n",
       "  (\u001b[32m\"Arachnothera longirostra\"\u001b[39m, \u001b[32m\"Tephrodornis sylvicola\"\u001b[39m) -> \u001b[32m103\u001b[39m,\n",
       "  (\u001b[32m\"Streptopelia decaocto\"\u001b[39m, \u001b[32m\"Calidris temminckii\"\u001b[39m) -> \u001b[32m170\u001b[39m,\n",
       "  (\u001b[32m\"Iole indica\"\u001b[39m, \u001b[32m\"Zosterops palpebrosus\"\u001b[39m) -> \u001b[32m357\u001b[39m,\n",
       "  (\u001b[32m\"Cisticola juncidis\"\u001b[39m, \u001b[32m\"Chalcophaps indica\"\u001b[39m) -> \u001b[32m23\u001b[39m,\n",
       "  (\u001b[32m\"Circaetus gallicus\"\u001b[39m, \u001b[32m\"Amandava amandava\"\u001b[39m) -> \u001b[32m60\u001b[39m,\n",
       "..."
      ]
     },
     "execution_count": 7,
     "metadata": {},
     "output_type": "execute_result"
    }
   ],
   "source": [
    "val topSet = top250.toSet\n",
    "val scientificNames = (commonNames map {case (s, c) => (c, s)}).toMap\n",
    "val bothSeen = {for {(a, b, n) <- pairs if topSet.contains(a) && topSet.contains(b)} yield((a, b), n)}.toMap"
   ]
  },
  {
   "cell_type": "code",
   "execution_count": 8,
   "metadata": {
    "collapsed": false
   },
   "outputs": [
    {
     "data": {
      "text/plain": [
       "\u001b[36mp\u001b[39m: \u001b[32mMap\u001b[39m[\u001b[32mString\u001b[39m, \u001b[32mInt\u001b[39m] = \u001b[33mMap\u001b[39m(\n",
       "  \u001b[32m\"Clamator coromandus\"\u001b[39m -> \u001b[32m42\u001b[39m,\n",
       "  \u001b[32m\"Alauda arvensis/gulgula\"\u001b[39m -> \u001b[32m2\u001b[39m,\n",
       "  \u001b[32m\"Ardenna carneipes\"\u001b[39m -> \u001b[32m49\u001b[39m,\n",
       "  \u001b[32m\"Ichthyophaga ichthyaetus\"\u001b[39m -> \u001b[32m48\u001b[39m,\n",
       "  \u001b[32m\"Otus lettia\"\u001b[39m -> \u001b[32m27\u001b[39m,\n",
       "  \u001b[32m\"Aythya nyroca\"\u001b[39m -> \u001b[32m188\u001b[39m,\n",
       "  \u001b[32m\"Aegithalos iouschistos\"\u001b[39m -> \u001b[32m14\u001b[39m,\n",
       "  \u001b[32m\"Anatidae sp.\"\u001b[39m -> \u001b[32m55\u001b[39m,\n",
       "  \u001b[32m\"Cinclidium leucurum\"\u001b[39m -> \u001b[32m31\u001b[39m,\n",
       "  \u001b[32m\"Xenus cinereus\"\u001b[39m -> \u001b[32m221\u001b[39m,\n",
       "  \u001b[32m\"Horornis flavolivaceus\"\u001b[39m -> \u001b[32m37\u001b[39m,\n",
       "  \u001b[32m\"Catreus wallichii\"\u001b[39m -> \u001b[32m11\u001b[39m,\n",
       "  \u001b[32m\"Accipiter butleri\"\u001b[39m -> \u001b[32m1\u001b[39m,\n",
       "  \u001b[32m\"Merops apiaster\"\u001b[39m -> \u001b[32m17\u001b[39m,\n",
       "  \u001b[32m\"Psittacula eupatria\"\u001b[39m -> \u001b[32m527\u001b[39m,\n",
       "  \u001b[32m\"Hydroprogne caspia\"\u001b[39m -> \u001b[32m190\u001b[39m,\n",
       "  \u001b[32m\"Elachura formosa\"\u001b[39m -> \u001b[32m20\u001b[39m,\n",
       "  \u001b[32m\"Corvus macrorhynchos\"\u001b[39m -> \u001b[32m10495\u001b[39m,\n",
       "  \u001b[32m\"Dryocopus javensis\"\u001b[39m -> \u001b[32m174\u001b[39m,\n",
       "  \u001b[32m\"Aviceda leuphotes\"\u001b[39m -> \u001b[32m67\u001b[39m,\n",
       "  \u001b[32m\"Psilopogon malabaricus/haemacephalus\"\u001b[39m -> \u001b[32m12\u001b[39m,\n",
       "  \u001b[32m\"Anthus trivialis\"\u001b[39m -> \u001b[32m250\u001b[39m,\n",
       "  \u001b[32m\"Ardea alba\"\u001b[39m -> \u001b[32m3151\u001b[39m,\n",
       "  \u001b[32m\"Acridotheres grandis\"\u001b[39m -> \u001b[32m164\u001b[39m,\n",
       "  \u001b[32m\"Rhyticeros undulatus\"\u001b[39m -> \u001b[32m32\u001b[39m,\n",
       "  \u001b[32m\"Tarsiger chrysaeus\"\u001b[39m -> \u001b[32m28\u001b[39m,\n",
       "  \u001b[32m\"Dendrocitta formosae\"\u001b[39m -> \u001b[32m370\u001b[39m,\n",
       "  \u001b[32m\"Carpodacus sp.\"\u001b[39m -> \u001b[32m10\u001b[39m,\n",
       "  \u001b[32m\"Rynchops albicollis\"\u001b[39m -> \u001b[32m19\u001b[39m,\n",
       "  \u001b[32m\"Locustella certhiola\"\u001b[39m -> \u001b[32m9\u001b[39m,\n",
       "  \u001b[32m\"Dicrurus annectans\"\u001b[39m -> \u001b[32m21\u001b[39m,\n",
       "  \u001b[32m\"Nisaetus cirrhatus\"\u001b[39m -> \u001b[32m427\u001b[39m,\n",
       "  \u001b[32m\"Mycteria leucocephala\"\u001b[39m -> \u001b[32m1764\u001b[39m,\n",
       "  \u001b[32m\"Glareola sp.\"\u001b[39m -> \u001b[32m7\u001b[39m,\n",
       "  \u001b[32m\"Ichthyaetus ichthyaetus\"\u001b[39m -> \u001b[32m191\u001b[39m,\n",
       "  \u001b[32m\"Zosterops palpebrosus\"\u001b[39m -> \u001b[32m2820\u001b[39m,\n",
       "  \u001b[32m\"Yuhina flavicollis\"\u001b[39m -> \u001b[32m222\u001b[39m,\n",
       "  \u001b[32m\"Certhia himalayana\"\u001b[39m -> \u001b[32m223\u001b[39m,\n",
       "..."
      ]
     },
     "execution_count": 8,
     "metadata": {},
     "output_type": "execute_result"
    }
   ],
   "source": [
    "val p = freqs.toMap"
   ]
  },
  {
   "cell_type": "markdown",
   "metadata": {},
   "source": [
    "The _co-occurence_ of two species is the ratio of the probability that they are seen together to what this probability would be if they were independent. We don't actually take the ratio but a constant multiple of the ratio as this makes no difference in the analysis."
   ]
  },
  {
   "cell_type": "code",
   "execution_count": 9,
   "metadata": {
    "collapsed": false
   },
   "outputs": [
    {
     "data": {
      "text/plain": [
       "defined \u001b[32mfunction\u001b[39m \u001b[36mcoOccurence\u001b[39m"
      ]
     },
     "execution_count": 9,
     "metadata": {},
     "output_type": "execute_result"
    }
   ],
   "source": [
    "def coOccurence(a: String, b: String) = 10000.0 * bothSeen((a, b)) / (p(a) * p(b))"
   ]
  },
  {
   "cell_type": "markdown",
   "metadata": {},
   "source": [
    "We already can see some interesting patterns from the data. Below we see the species that co-occur the most (first by scientific name, then the top 1000 pairs by common name)"
   ]
  },
  {
   "cell_type": "code",
   "execution_count": 10,
   "metadata": {
    "collapsed": false
   },
   "outputs": [
    {
     "data": {
      "text/plain": [
       "\u001b[36mtopPairs\u001b[39m: \u001b[32mcollection\u001b[39m.\u001b[32mmutable\u001b[39m.\u001b[32mWrappedArray\u001b[39m[(\u001b[32mString\u001b[39m, \u001b[32mString\u001b[39m)] = \u001b[33mWrappedArray\u001b[39m(\n",
       "  (\u001b[32m\"Corvus splendens\"\u001b[39m, \u001b[32m\"Acridotheres tristis\"\u001b[39m),\n",
       "  (\u001b[32m\"Corvus splendens\"\u001b[39m, \u001b[32m\"Halcyon smyrnensis\"\u001b[39m),\n",
       "  (\u001b[32m\"Corvus splendens\"\u001b[39m, \u001b[32m\"Corvus macrorhynchos\"\u001b[39m),\n",
       "  (\u001b[32m\"Corvus splendens\"\u001b[39m, \u001b[32m\"Dicrurus macrocercus\"\u001b[39m),\n",
       "  (\u001b[32m\"Corvus splendens\"\u001b[39m, \u001b[32m\"Ardeola grayii\"\u001b[39m),\n",
       "  (\u001b[32m\"Corvus splendens\"\u001b[39m, \u001b[32m\"Pycnonotus cafer\"\u001b[39m),\n",
       "  (\u001b[32m\"Corvus splendens\"\u001b[39m, \u001b[32m\"Pycnonotus jocosus\"\u001b[39m),\n",
       "  (\u001b[32m\"Corvus splendens\"\u001b[39m, \u001b[32m\"Streptopelia chinensis\"\u001b[39m),\n",
       "  (\u001b[32m\"Corvus splendens\"\u001b[39m, \u001b[32m\"Orthotomus sutorius\"\u001b[39m),\n",
       "  (\u001b[32m\"Corvus splendens\"\u001b[39m, \u001b[32m\"Copsychus saularis\"\u001b[39m),\n",
       "  (\u001b[32m\"Corvus splendens\"\u001b[39m, \u001b[32m\"Centropus sinensis\"\u001b[39m),\n",
       "  (\u001b[32m\"Corvus splendens\"\u001b[39m, \u001b[32m\"Psilopogon viridis\"\u001b[39m),\n",
       "  (\u001b[32m\"Corvus splendens\"\u001b[39m, \u001b[32m\"Psittacula krameri\"\u001b[39m),\n",
       "  (\u001b[32m\"Corvus splendens\"\u001b[39m, \u001b[32m\"Columba livia\"\u001b[39m),\n",
       "  (\u001b[32m\"Corvus splendens\"\u001b[39m, \u001b[32m\"Milvus migrans\"\u001b[39m),\n",
       "  (\u001b[32m\"Corvus splendens\"\u001b[39m, \u001b[32m\"Leptocoma zeylonica\"\u001b[39m),\n",
       "  (\u001b[32m\"Corvus splendens\"\u001b[39m, \u001b[32m\"Microcarbo niger\"\u001b[39m),\n",
       "  (\u001b[32m\"Corvus splendens\"\u001b[39m, \u001b[32m\"Eudynamys scolopaceus\"\u001b[39m),\n",
       "  (\u001b[32m\"Corvus splendens\"\u001b[39m, \u001b[32m\"Bubulcus ibis\"\u001b[39m),\n",
       "  (\u001b[32m\"Corvus splendens\"\u001b[39m, \u001b[32m\"Vanellus indicus\"\u001b[39m),\n",
       "  (\u001b[32m\"Corvus splendens\"\u001b[39m, \u001b[32m\"Haliastur indus\"\u001b[39m),\n",
       "  (\u001b[32m\"Corvus splendens\"\u001b[39m, \u001b[32m\"Dendrocitta vagabunda\"\u001b[39m),\n",
       "  (\u001b[32m\"Corvus splendens\"\u001b[39m, \u001b[32m\"Merops orientalis\"\u001b[39m),\n",
       "  (\u001b[32m\"Corvus splendens\"\u001b[39m, \u001b[32m\"Egretta garzetta\"\u001b[39m),\n",
       "  (\u001b[32m\"Corvus splendens\"\u001b[39m, \u001b[32m\"Prinia socialis\"\u001b[39m),\n",
       "  (\u001b[32m\"Corvus splendens\"\u001b[39m, \u001b[32m\"Cinnyris asiaticus\"\u001b[39m),\n",
       "  (\u001b[32m\"Corvus splendens\"\u001b[39m, \u001b[32m\"Turdoides striata\"\u001b[39m),\n",
       "  (\u001b[32m\"Corvus splendens\"\u001b[39m, \u001b[32m\"Dinopium benghalense\"\u001b[39m),\n",
       "  (\u001b[32m\"Corvus splendens\"\u001b[39m, \u001b[32m\"Acridotheres fuscus\"\u001b[39m),\n",
       "  (\u001b[32m\"Corvus splendens\"\u001b[39m, \u001b[32m\"Hirundo rustica\"\u001b[39m),\n",
       "  (\u001b[32m\"Corvus splendens\"\u001b[39m, \u001b[32m\"Psilopogon haemacephalus\"\u001b[39m),\n",
       "  (\u001b[32m\"Corvus splendens\"\u001b[39m, \u001b[32m\"Dicaeum erythrorhynchos\"\u001b[39m),\n",
       "  (\u001b[32m\"Corvus splendens\"\u001b[39m, \u001b[32m\"Pavo cristatus\"\u001b[39m),\n",
       "  (\u001b[32m\"Corvus splendens\"\u001b[39m, \u001b[32m\"Mesophoyx intermedia\"\u001b[39m),\n",
       "  (\u001b[32m\"Corvus splendens\"\u001b[39m, \u001b[32m\"Amaurornis phoenicurus\"\u001b[39m),\n",
       "  (\u001b[32m\"Corvus splendens\"\u001b[39m, \u001b[32m\"Turdoides affinis\"\u001b[39m),\n",
       "  (\u001b[32m\"Corvus splendens\"\u001b[39m, \u001b[32m\"Aegithina tiphia\"\u001b[39m),\n",
       "  (\u001b[32m\"Corvus splendens\"\u001b[39m, \u001b[32m\"Ardea purpurea\"\u001b[39m),\n",
       "..."
      ]
     },
     "execution_count": 10,
     "metadata": {},
     "output_type": "execute_result"
    }
   ],
   "source": [
    "val topPairs = for (a <- top250; b <- top250 if a != b) yield (a, b)\n"
   ]
  },
  {
   "cell_type": "code",
   "execution_count": 11,
   "metadata": {
    "collapsed": false
   },
   "outputs": [
    {
     "data": {
      "text/plain": [
       "\u001b[36mtogether\u001b[39m: \u001b[32mcollection\u001b[39m.\u001b[32mmutable\u001b[39m.\u001b[32mWrappedArray\u001b[39m[(\u001b[32mString\u001b[39m, \u001b[32mString\u001b[39m)] = \u001b[33mWrappedArray\u001b[39m(\n",
       "  (\u001b[32m\"Hypsipetes leucocephalus\"\u001b[39m, \u001b[32m\"Psilopogon virens\"\u001b[39m),\n",
       "  (\u001b[32m\"Charadrius alexandrinus\"\u001b[39m, \u001b[32m\"Charadrius mongolus\"\u001b[39m),\n",
       "  (\u001b[32m\"Anas crecca\"\u001b[39m, \u001b[32m\"Anas strepera\"\u001b[39m),\n",
       "  (\u001b[32m\"Anas strepera\"\u001b[39m, \u001b[32m\"Anser indicus\"\u001b[39m),\n",
       "  (\u001b[32m\"Anser indicus\"\u001b[39m, \u001b[32m\"Tadorna ferruginea\"\u001b[39m),\n",
       "  (\u001b[32m\"Calidris minuta\"\u001b[39m, \u001b[32m\"Calidris temminckii\"\u001b[39m),\n",
       "  (\u001b[32m\"Phylloscopus xanthoschistos\"\u001b[39m, \u001b[32m\"Saxicola ferreus\"\u001b[39m),\n",
       "  (\u001b[32m\"Myophonus caeruleus\"\u001b[39m, \u001b[32m\"Phylloscopus xanthoschistos\"\u001b[39m),\n",
       "  (\u001b[32m\"Pycnonotus leucogenys\"\u001b[39m, \u001b[32m\"Saxicola ferreus\"\u001b[39m),\n",
       "  (\u001b[32m\"Phoenicurus ochruros\"\u001b[39m, \u001b[32m\"Sylvia curruca\"\u001b[39m),\n",
       "  (\u001b[32m\"Phylloscopus xanthoschistos\"\u001b[39m, \u001b[32m\"Pycnonotus leucogenys\"\u001b[39m),\n",
       "  (\u001b[32m\"Anas clypeata\"\u001b[39m, \u001b[32m\"Anas strepera\"\u001b[39m),\n",
       "  (\u001b[32m\"Myophonus caeruleus\"\u001b[39m, \u001b[32m\"Psilopogon virens\"\u001b[39m),\n",
       "  (\u001b[32m\"Hypsipetes leucocephalus\"\u001b[39m, \u001b[32m\"Phylloscopus xanthoschistos\"\u001b[39m),\n",
       "  (\u001b[32m\"Anas clypeata\"\u001b[39m, \u001b[32m\"Anas crecca\"\u001b[39m),\n",
       "  (\u001b[32m\"Anas strepera\"\u001b[39m, \u001b[32m\"Tadorna ferruginea\"\u001b[39m),\n",
       "  (\u001b[32m\"Ficedula parva\"\u001b[39m, \u001b[32m\"Phylloscopus humei\"\u001b[39m),\n",
       "  (\u001b[32m\"Hypsipetes leucocephalus\"\u001b[39m, \u001b[32m\"Myophonus caeruleus\"\u001b[39m),\n",
       "  (\u001b[32m\"Myophonus caeruleus\"\u001b[39m, \u001b[32m\"Saxicola ferreus\"\u001b[39m),\n",
       "  (\u001b[32m\"Calidris temminckii\"\u001b[39m, \u001b[32m\"Gallinago gallinago\"\u001b[39m),\n",
       "  (\u001b[32m\"Phylloscopus xanthoschistos\"\u001b[39m, \u001b[32m\"Psilopogon virens\"\u001b[39m),\n",
       "  (\u001b[32m\"Phylloscopus xanthoschistos\"\u001b[39m, \u001b[32m\"Rhipidura albicollis\"\u001b[39m),\n",
       "  (\u001b[32m\"Myophonus caeruleus\"\u001b[39m, \u001b[32m\"Pycnonotus leucogenys\"\u001b[39m),\n",
       "  (\u001b[32m\"Anas crecca\"\u001b[39m, \u001b[32m\"Anser indicus\"\u001b[39m),\n",
       "  (\u001b[32m\"Anas acuta\"\u001b[39m, \u001b[32m\"Anas strepera\"\u001b[39m),\n",
       "  (\u001b[32m\"Anas acuta\"\u001b[39m, \u001b[32m\"Anas clypeata\"\u001b[39m),\n",
       "  (\u001b[32m\"Limosa limosa\"\u001b[39m, \u001b[32m\"Tringa stagnatilis\"\u001b[39m),\n",
       "  (\u001b[32m\"Rhipidura albicollis\"\u001b[39m, \u001b[32m\"Saxicola ferreus\"\u001b[39m),\n",
       "  (\u001b[32m\"Hypsipetes leucocephalus\"\u001b[39m, \u001b[32m\"Saxicola ferreus\"\u001b[39m),\n",
       "  (\u001b[32m\"Calidris minuta\"\u001b[39m, \u001b[32m\"Tringa stagnatilis\"\u001b[39m),\n",
       "  (\u001b[32m\"Ficedula parva\"\u001b[39m, \u001b[32m\"Phoenicurus ochruros\"\u001b[39m),\n",
       "  (\u001b[32m\"Hypsipetes leucocephalus\"\u001b[39m, \u001b[32m\"Rhipidura albicollis\"\u001b[39m),\n",
       "  (\u001b[32m\"Psilopogon virens\"\u001b[39m, \u001b[32m\"Saxicola ferreus\"\u001b[39m),\n",
       "  (\u001b[32m\"Anas acuta\"\u001b[39m, \u001b[32m\"Anas crecca\"\u001b[39m),\n",
       "  (\u001b[32m\"Charadrius mongolus\"\u001b[39m, \u001b[32m\"Gelochelidon nilotica\"\u001b[39m),\n",
       "  (\u001b[32m\"Calidris temminckii\"\u001b[39m, \u001b[32m\"Tringa stagnatilis\"\u001b[39m),\n",
       "  (\u001b[32m\"Hypsipetes leucocephalus\"\u001b[39m, \u001b[32m\"Pycnonotus leucogenys\"\u001b[39m),\n",
       "  (\u001b[32m\"Pycnonotus leucogenys\"\u001b[39m, \u001b[32m\"Rhipidura albicollis\"\u001b[39m),\n",
       "..."
      ]
     },
     "execution_count": 11,
     "metadata": {},
     "output_type": "execute_result"
    }
   ],
   "source": [
    "val together = topPairs.sortBy((ab) => - coOccurence(ab._1, ab._2)).filter((ab) => (ab._1 < ab._2))"
   ]
  },
  {
   "cell_type": "code",
   "execution_count": 12,
   "metadata": {
    "collapsed": false
   },
   "outputs": [
    {
     "name": "stdout",
     "output_type": "stream",
     "text": [
      "\u001b[33mWrappedArray\u001b[39m(\n",
      "  (\u001b[32m\"Black Bulbul\"\u001b[39m, \u001b[32m\"Great Barbet\"\u001b[39m),\n",
      "  (\u001b[32m\"Kentish Plover\"\u001b[39m, \u001b[32m\"Lesser Sand-Plover\"\u001b[39m),\n",
      "  (\u001b[32m\"Green-winged Teal\"\u001b[39m, \u001b[32m\"Gadwall\"\u001b[39m),\n",
      "  (\u001b[32m\"Gadwall\"\u001b[39m, \u001b[32m\"Bar-headed Goose\"\u001b[39m),\n",
      "  (\u001b[32m\"Bar-headed Goose\"\u001b[39m, \u001b[32m\"Ruddy Shelduck\"\u001b[39m),\n",
      "  (\u001b[32m\"Little Stint\"\u001b[39m, \u001b[32m\"Temminck's Stint\"\u001b[39m),\n",
      "  (\u001b[32m\"Gray-hooded Warbler\"\u001b[39m, \u001b[32m\"Gray Bushchat\"\u001b[39m),\n",
      "  (\u001b[32m\"Blue Whistling-Thrush\"\u001b[39m, \u001b[32m\"Gray-hooded Warbler\"\u001b[39m),\n",
      "  (\u001b[32m\"Himalayan Bulbul\"\u001b[39m, \u001b[32m\"Gray Bushchat\"\u001b[39m),\n",
      "  (\u001b[32m\"Black Redstart\"\u001b[39m, \u001b[32m\"Lesser Whitethroat\"\u001b[39m),\n",
      "  (\u001b[32m\"Gray-hooded Warbler\"\u001b[39m, \u001b[32m\"Himalayan Bulbul\"\u001b[39m),\n",
      "  (\u001b[32m\"Northern Shoveler\"\u001b[39m, \u001b[32m\"Gadwall\"\u001b[39m),\n",
      "  (\u001b[32m\"Blue Whistling-Thrush\"\u001b[39m, \u001b[32m\"Great Barbet\"\u001b[39m),\n",
      "  (\u001b[32m\"Black Bulbul\"\u001b[39m, \u001b[32m\"Gray-hooded Warbler\"\u001b[39m),\n",
      "  (\u001b[32m\"Northern Shoveler\"\u001b[39m, \u001b[32m\"Green-winged Teal\"\u001b[39m),\n",
      "  (\u001b[32m\"Gadwall\"\u001b[39m, \u001b[32m\"Ruddy Shelduck\"\u001b[39m),\n",
      "  (\u001b[32m\"Red-breasted Flycatcher\"\u001b[39m, \u001b[32m\"Hume's Warbler\"\u001b[39m),\n",
      "  (\u001b[32m\"Black Bulbul\"\u001b[39m, \u001b[32m\"Blue Whistling-Thrush\"\u001b[39m),\n",
      "  (\u001b[32m\"Blue Whistling-Thrush\"\u001b[39m, \u001b[32m\"Gray Bushchat\"\u001b[39m),\n",
      "  (\u001b[32m\"Temminck's Stint\"\u001b[39m, \u001b[32m\"Common Snipe\"\u001b[39m),\n",
      "  (\u001b[32m\"Gray-hooded Warbler\"\u001b[39m, \u001b[32m\"Great Barbet\"\u001b[39m),\n",
      "  (\u001b[32m\"Gray-hooded Warbler\"\u001b[39m, \u001b[32m\"White-throated Fantail\"\u001b[39m),\n",
      "  (\u001b[32m\"Blue Whistling-Thrush\"\u001b[39m, \u001b[32m\"Himalayan Bulbul\"\u001b[39m),\n",
      "  (\u001b[32m\"Green-winged Teal\"\u001b[39m, \u001b[32m\"Bar-headed Goose\"\u001b[39m),\n",
      "  (\u001b[32m\"Northern Pintail\"\u001b[39m, \u001b[32m\"Gadwall\"\u001b[39m),\n",
      "  (\u001b[32m\"Northern Pintail\"\u001b[39m, \u001b[32m\"Northern Shoveler\"\u001b[39m),\n",
      "  (\u001b[32m\"Black-tailed Godwit\"\u001b[39m, \u001b[32m\"Marsh Sandpiper\"\u001b[39m),\n",
      "  (\u001b[32m\"White-throated Fantail\"\u001b[39m, \u001b[32m\"Gray Bushchat\"\u001b[39m),\n",
      "  (\u001b[32m\"Black Bulbul\"\u001b[39m, \u001b[32m\"Gray Bushchat\"\u001b[39m),\n",
      "  (\u001b[32m\"Little Stint\"\u001b[39m, \u001b[32m\"Marsh Sandpiper\"\u001b[39m),\n",
      "  (\u001b[32m\"Red-breasted Flycatcher\"\u001b[39m, \u001b[32m\"Black Redstart\"\u001b[39m),\n",
      "  (\u001b[32m\"Black Bulbul\"\u001b[39m, \u001b[32m\"White-throated Fantail\"\u001b[39m),\n",
      "  (\u001b[32m\"Great Barbet\"\u001b[39m, \u001b[32m\"Gray Bushchat\"\u001b[39m),\n",
      "  (\u001b[32m\"Northern Pintail\"\u001b[39m, \u001b[32m\"Green-winged Teal\"\u001b[39m),\n",
      "  (\u001b[32m\"Lesser Sand-Plover\"\u001b[39m, \u001b[32m\"Gull-billed Tern\"\u001b[39m),\n",
      "  (\u001b[32m\"Temminck's Stint\"\u001b[39m, \u001b[32m\"Marsh Sandpiper\"\u001b[39m),\n",
      "  (\u001b[32m\"Black Bulbul\"\u001b[39m, \u001b[32m\"Himalayan Bulbul\"\u001b[39m),\n",
      "  (\u001b[32m\"Himalayan Bulbul\"\u001b[39m, \u001b[32m\"White-throated Fantail\"\u001b[39m),\n",
      "  (\u001b[32m\"Flame-throated Bulbul\"\u001b[39m, \u001b[32m\"Dark-fronted Babbler\"\u001b[39m),\n",
      "  (\u001b[32m\"Little Stint\"\u001b[39m, \u001b[32m\"Kentish Plover\"\u001b[39m),\n",
      "  (\u001b[32m\"Lesser Sand-Plover\"\u001b[39m, \u001b[32m\"Brown-headed Gull\"\u001b[39m),\n",
      "  (\u001b[32m\"Hume's Warbler\"\u001b[39m, \u001b[32m\"Lesser Whitethroat\"\u001b[39m),\n",
      "  (\u001b[32m\"Little Stint\"\u001b[39m, \u001b[32m\"Black-tailed Godwit\"\u001b[39m),\n",
      "  (\u001b[32m\"Northern Shoveler\"\u001b[39m, \u001b[32m\"Bar-headed Goose\"\u001b[39m),\n",
      "  (\u001b[32m\"Malabar Trogon\"\u001b[39m, \u001b[32m\"Dark-fronted Babbler\"\u001b[39m),\n",
      "  (\u001b[32m\"Red-breasted Flycatcher\"\u001b[39m, \u001b[32m\"Lesser Whitethroat\"\u001b[39m),\n",
      "  (\u001b[32m\"Gadwall\"\u001b[39m, \u001b[32m\"Citrine Wagtail\"\u001b[39m),\n",
      "  (\u001b[32m\"White-bellied Treepie\"\u001b[39m, \u001b[32m\"Malabar Trogon\"\u001b[39m),\n",
      "  (\u001b[32m\"Malabar Trogon\"\u001b[39m, \u001b[32m\"Malabar Woodshrike\"\u001b[39m),\n",
      "  (\u001b[32m\"Brown-headed Gull\"\u001b[39m, \u001b[32m\"Gull-billed Tern\"\u001b[39m),\n",
      "  (\u001b[32m\"Brown-cheeked Fulvetta\"\u001b[39m, \u001b[32m\"Malabar Trogon\"\u001b[39m),\n",
      "  (\u001b[32m\"Blue Whistling-Thrush\"\u001b[39m, \u001b[32m\"White-throated Fantail\"\u001b[39m),\n",
      "  (\u001b[32m\"Hume's Warbler\"\u001b[39m, \u001b[32m\"White-throated Fantail\"\u001b[39m),\n",
      "  (\u001b[32m\"Kentish Plover\"\u001b[39m, \u001b[32m\"Brown-headed Gull\"\u001b[39m),\n",
      "  (\u001b[32m\"Green-winged Teal\"\u001b[39m, \u001b[32m\"Ruddy Shelduck\"\u001b[39m),\n",
      "  (\u001b[32m\"Green-winged Teal\"\u001b[39m, \u001b[32m\"Common Snipe\"\u001b[39m),\n",
      "  (\u001b[32m\"Black-tailed Godwit\"\u001b[39m, \u001b[32m\"Eurasian Spoonbill\"\u001b[39m),\n",
      "  (\u001b[32m\"Rufous-tailed Lark\"\u001b[39m, \u001b[32m\"Ashy-crowned Sparrow-Lark\"\u001b[39m),\n",
      "  (\u001b[32m\"Hume's Warbler\"\u001b[39m, \u001b[32m\"Gray-hooded Warbler\"\u001b[39m),\n",
      "  (\u001b[32m\"Malabar Trogon\"\u001b[39m, \u001b[32m\"Flame-throated Bulbul\"\u001b[39m),\n",
      "  (\u001b[32m\"Temminck's Stint\"\u001b[39m, \u001b[32m\"Kentish Plover\"\u001b[39m),\n",
      "  (\u001b[32m\"Bar-headed Goose\"\u001b[39m, \u001b[32m\"Citrine Wagtail\"\u001b[39m),\n",
      "  (\u001b[32m\"Northern Pintail\"\u001b[39m, \u001b[32m\"Bar-headed Goose\"\u001b[39m),\n",
      "  (\u001b[32m\"Lesser Sand-Plover\"\u001b[39m, \u001b[32m\"Common Redshank\"\u001b[39m),\n",
      "  (\u001b[32m\"Bank Myna\"\u001b[39m, \u001b[32m\"Indian Chat\"\u001b[39m),\n",
      "  (\u001b[32m\"Gadwall\"\u001b[39m, \u001b[32m\"Lesser Whitethroat\"\u001b[39m),\n",
      "  (\u001b[32m\"White-bellied Treepie\"\u001b[39m, \u001b[32m\"Malabar Woodshrike\"\u001b[39m),\n",
      "  (\u001b[32m\"Temminck's Stint\"\u001b[39m, \u001b[32m\"Black-tailed Godwit\"\u001b[39m),\n",
      "  (\u001b[32m\"Malabar Trogon\"\u001b[39m, \u001b[32m\"Gray-fronted Green-Pigeon\"\u001b[39m),\n",
      "  (\u001b[32m\"Verditer Flycatcher\"\u001b[39m, \u001b[32m\"Great Barbet\"\u001b[39m),\n",
      "  (\u001b[32m\"Black-tailed Godwit\"\u001b[39m, \u001b[32m\"Common Redshank\"\u001b[39m),\n",
      "  (\u001b[32m\"Hume's Warbler\"\u001b[39m, \u001b[32m\"Gray Bushchat\"\u001b[39m),\n",
      "  (\u001b[32m\"Bar-headed Goose\"\u001b[39m, \u001b[32m\"Eurasian Spoonbill\"\u001b[39m),\n",
      "  (\u001b[32m\"Green-winged Teal\"\u001b[39m, \u001b[32m\"Temminck's Stint\"\u001b[39m),\n",
      "  (\u001b[32m\"Great Barbet\"\u001b[39m, \u001b[32m\"Himalayan Bulbul\"\u001b[39m),\n",
      "  (\u001b[32m\"Brown-cheeked Fulvetta\"\u001b[39m, \u001b[32m\"Dark-fronted Babbler\"\u001b[39m),\n",
      "  (\u001b[32m\"Marsh Sandpiper\"\u001b[39m, \u001b[32m\"Common Redshank\"\u001b[39m),\n",
      "  (\u001b[32m\"Lesser Whitethroat\"\u001b[39m, \u001b[32m\"Common Babbler\"\u001b[39m),\n",
      "  (\u001b[32m\"Temminck's Stint\"\u001b[39m, \u001b[32m\"Common Redshank\"\u001b[39m),\n",
      "  (\u001b[32m\"Kentish Plover\"\u001b[39m, \u001b[32m\"Common Redshank\"\u001b[39m),\n",
      "  (\u001b[32m\"Little Stint\"\u001b[39m, \u001b[32m\"Common Snipe\"\u001b[39m),\n",
      "  (\u001b[32m\"Great Barbet\"\u001b[39m, \u001b[32m\"White-throated Fantail\"\u001b[39m),\n",
      "  (\u001b[32m\"Malabar Trogon\"\u001b[39m, \u001b[32m\"Asian Fairy-bluebird\"\u001b[39m),\n",
      "  (\u001b[32m\"Great Barbet\"\u001b[39m, \u001b[32m\"Oriental Turtle-Dove\"\u001b[39m),\n",
      "  (\u001b[32m\"Temminck's Stint\"\u001b[39m, \u001b[32m\"Little Ringed Plover\"\u001b[39m),\n",
      "  (\u001b[32m\"Malabar Trogon\"\u001b[39m, \u001b[32m\"Malabar Gray Hornbill\"\u001b[39m),\n",
      "  (\u001b[32m\"Gray-hooded Warbler\"\u001b[39m, \u001b[32m\"Oriental Turtle-Dove\"\u001b[39m),\n",
      "  (\u001b[32m\"Common Snipe\"\u001b[39m, \u001b[32m\"Marsh Sandpiper\"\u001b[39m),\n",
      "  (\u001b[32m\"Hume's Warbler\"\u001b[39m, \u001b[32m\"Alexandrine Parakeet\"\u001b[39m),\n",
      "  (\u001b[32m\"Temminck's Stint\"\u001b[39m, \u001b[32m\"Citrine Wagtail\"\u001b[39m),\n",
      "  (\u001b[32m\"Little Stint\"\u001b[39m, \u001b[32m\"Common Redshank\"\u001b[39m),\n",
      "  (\u001b[32m\"Bank Myna\"\u001b[39m, \u001b[32m\"Gadwall\"\u001b[39m),\n",
      "  (\u001b[32m\"Common Snipe\"\u001b[39m, \u001b[32m\"Black-tailed Godwit\"\u001b[39m),\n",
      "  (\u001b[32m\"Bank Myna\"\u001b[39m, \u001b[32m\"Citrine Wagtail\"\u001b[39m),\n",
      "  (\u001b[32m\"Little Stint\"\u001b[39m, \u001b[32m\"Lesser Sand-Plover\"\u001b[39m),\n",
      "  (\u001b[32m\"Brown-cheeked Fulvetta\"\u001b[39m, \u001b[32m\"Crimson-backed Sunbird\"\u001b[39m),\n",
      "  (\u001b[32m\"Green-winged Teal\"\u001b[39m, \u001b[32m\"Black-tailed Godwit\"\u001b[39m),\n",
      "  (\u001b[32m\"Bar-winged Flycatcher-shrike\"\u001b[39m, \u001b[32m\"Velvet-fronted Nuthatch\"\u001b[39m),\n",
      "  (\u001b[32m\"Common Snipe\"\u001b[39m, \u001b[32m\"Ruddy Shelduck\"\u001b[39m),\n",
      "  (\u001b[32m\"Malabar Trogon\"\u001b[39m, \u001b[32m\"Crimson-backed Sunbird\"\u001b[39m)\n",
      ")\n"
     ]
    }
   ],
   "source": [
    "show(together map {case (x, y) => (commonNames(x), commonNames(y))} take (100))"
   ]
  },
  {
   "cell_type": "markdown",
   "metadata": {},
   "source": [
    "We see that there are two kinds of pairs above:\n",
    "\n",
    "* Those with the same geography, particularly those confined mainly to the himalayas or the western ghat.\n",
    "* Those with similar habitats, most obviously water birds. Even better, we see waders co-occur with other waders and swimmers with other swimmers, and grassland birds occur with others."
   ]
  },
  {
   "cell_type": "markdown",
   "metadata": {},
   "source": [
    "## Force-directed layout\n",
    "\n",
    "We visualize the results using a _force-directed layout_, using the implementation in _https://github.com/rsimon/scala-force-layout_"
   ]
  },
  {
   "cell_type": "code",
   "execution_count": 13,
   "metadata": {
    "collapsed": false
   },
   "outputs": [
    {
     "data": {
      "text/plain": [
       "\u001b[32mimport \u001b[39m\u001b[36m$ivy.$                                                          \u001b[39m"
      ]
     },
     "execution_count": 13,
     "metadata": {},
     "output_type": "execute_result"
    }
   ],
   "source": [
    "import $ivy.`at.ait.dme.forcelayout::scala-force-layout:0.4.1-SNAPSHOT`"
   ]
  },
  {
   "cell_type": "code",
   "execution_count": 14,
   "metadata": {
    "collapsed": false
   },
   "outputs": [
    {
     "data": {
      "text/plain": [
       "\u001b[32mimport \u001b[39m\u001b[36mat.ait.dme.forcelayout._\u001b[39m"
      ]
     },
     "execution_count": 14,
     "metadata": {},
     "output_type": "execute_result"
    }
   ],
   "source": [
    "import at.ait.dme.forcelayout._"
   ]
  },
  {
   "cell_type": "code",
   "execution_count": 15,
   "metadata": {
    "collapsed": false
   },
   "outputs": [
    {
     "data": {
      "text/plain": [
       "\u001b[36mbirdNodes\u001b[39m: \u001b[32mVector\u001b[39m[\u001b[32mNode\u001b[39m] = \u001b[33mVector\u001b[39m(\n",
       "  \u001b[33mNode\u001b[39m(\n",
       "    \u001b[32m\"Psittacula eupatria\"\u001b[39m,\n",
       "    \u001b[32m\"Alexandrine Parakeet\"\u001b[39m,\n",
       "    \u001b[32m1.0\u001b[39m,\n",
       "    \u001b[32m0\u001b[39m,\n",
       "    \u001b[33mList\u001b[39m(),\n",
       "    \u001b[33mList\u001b[39m(),\n",
       "    \u001b[33mNodeState\u001b[39m(\n",
       "      \u001b[33mVector2D\u001b[39m(\u001b[32m0.46720416628248307\u001b[39m, \u001b[32m0.41230469175425166\u001b[39m),\n",
       "      \u001b[33mVector2D\u001b[39m(\u001b[32m0.0\u001b[39m, \u001b[32m0.0\u001b[39m),\n",
       "      \u001b[33mVector2D\u001b[39m(\u001b[32m0.0\u001b[39m, \u001b[32m0.0\u001b[39m)\n",
       "    )\n",
       "  ),\n",
       "  \u001b[33mNode\u001b[39m(\n",
       "    \u001b[32m\"Corvus macrorhynchos\"\u001b[39m,\n",
       "    \u001b[32m\"Large-billed Crow\"\u001b[39m,\n",
       "    \u001b[32m1.0\u001b[39m,\n",
       "    \u001b[32m0\u001b[39m,\n",
       "    \u001b[33mList\u001b[39m(),\n",
       "    \u001b[33mList\u001b[39m(),\n",
       "    \u001b[33mNodeState\u001b[39m(\n",
       "      \u001b[33mVector2D\u001b[39m(\u001b[32m-0.15811037591688681\u001b[39m, \u001b[32m0.26769123614542123\u001b[39m),\n",
       "      \u001b[33mVector2D\u001b[39m(\u001b[32m0.0\u001b[39m, \u001b[32m0.0\u001b[39m),\n",
       "      \u001b[33mVector2D\u001b[39m(\u001b[32m0.0\u001b[39m, \u001b[32m0.0\u001b[39m)\n",
       "    )\n",
       "  ),\n",
       "  \u001b[33mNode\u001b[39m(\n",
       "    \u001b[32m\"Ardea alba\"\u001b[39m,\n",
       "    \u001b[32m\"Great Egret\"\u001b[39m,\n",
       "    \u001b[32m1.0\u001b[39m,\n",
       "    \u001b[32m0\u001b[39m,\n",
       "    \u001b[33mList\u001b[39m(),\n",
       "    \u001b[33mList\u001b[39m(),\n",
       "    \u001b[33mNodeState\u001b[39m(\n",
       "      \u001b[33mVector2D\u001b[39m(\u001b[32m0.43186370130349117\u001b[39m, \u001b[32m0.42447067734473887\u001b[39m),\n",
       "      \u001b[33mVector2D\u001b[39m(\u001b[32m0.0\u001b[39m, \u001b[32m0.0\u001b[39m),\n",
       "      \u001b[33mVector2D\u001b[39m(\u001b[32m0.0\u001b[39m, \u001b[32m0.0\u001b[39m)\n",
       "    )\n",
       "..."
      ]
     },
     "execution_count": 15,
     "metadata": {},
     "output_type": "execute_result"
    }
   ],
   "source": [
    "val birdNodes = topSet.toVector map ((s) => Node(s, commonNames(s)))"
   ]
  },
  {
   "cell_type": "code",
   "execution_count": 16,
   "metadata": {},
   "outputs": [
    {
     "data": {
      "text/plain": [
       "defined \u001b[32mobject\u001b[39m \u001b[36mSvgGraphs\u001b[39m"
      ]
     },
     "execution_count": 16,
     "metadata": {},
     "output_type": "execute_result"
    }
   ],
   "source": [
    "object SvgGraphs {\n",
    "  val labelCss = \"\"\"\n",
    "    <style>\n",
    "      .labl {\n",
    "        display: none;\n",
    "      }\n",
    "      .labelled:hover + .labl {\n",
    "        display: inline;\n",
    "      }\n",
    "    </style>\n",
    "    \"\"\"\n",
    "\n",
    "  def circ(x: Double,\n",
    "           y: Double,\n",
    "           t: String,\n",
    "           r: Double = 3,\n",
    "           colour: String = \"blue\",\n",
    "           fontSize: Int = 12) = {\n",
    "    s\"\"\"\n",
    "    <circle cx=\"$x\" cy=\"$y\" r=\"$r\" fill=\"$colour\" class = \"labelled\"/>\n",
    "    <text x=\"${x + r +\n",
    "      r}\" y=\"$y\" font-size=\"$fontSize\" text-anchor=\"start\" class = \"labl\">$t</text>\n",
    "    \"\"\"\n",
    "  }\n",
    "\n",
    "  def header(width: Int = 1000, height: Int = 400) = {\n",
    "    s\"\"\"\n",
    "    $labelCss\n",
    "\n",
    "    <svg version=\"1.1\"\n",
    "   baseProfile=\"full\"\n",
    "   width=\"$width\" height=\"$height\"\n",
    "   xmlns=\"http://www.w3.org/2000/svg\">\n",
    "\n",
    "   <rect width=\"80%\" height=\"100%\" fill=\"lightgrey\" />\n",
    "\n",
    "    \"\"\" // margin on the right for text\n",
    "  }\n",
    "\n",
    "  def scatterPlot(points: Vector[(Double, Double, String)],\n",
    "                  width: Int = 1000,\n",
    "                  height: Int = 400,\n",
    "                  r: Double = 3,\n",
    "                  colour: String = \"blue\",\n",
    "                  fontSize: Int = 12) = {\n",
    "\n",
    "    val xs     = points map (_._1)\n",
    "    val ys     = points map (_._2)\n",
    "    val xmax   = xs.max\n",
    "    val xmin   = xs.min\n",
    "    val ymax   = ys.max\n",
    "    val ymin   = ys.min\n",
    "    val xScale = (width * 0.6 - (4 * r)) / (xmax - xmin)\n",
    "    val yScale = (height * 0.9 - (4 * r)) / (ymax - ymin)\n",
    "    val circles =\n",
    "      points map {\n",
    "        case (x, y, t) =>\n",
    "          circ((x - xmin) * xScale + r + r,\n",
    "               height - r - r - ((y - ymin) * yScale),\n",
    "               t,\n",
    "               r,\n",
    "               colour,\n",
    "               fontSize)\n",
    "      }\n",
    "    s\"\"\"\n",
    "      <div>\n",
    "      ${header(width, height)}\n",
    "      ${circles.mkString(\"\\n\")}\n",
    "      </div>\n",
    "      \"\"\"\n",
    "  }\n",
    "}\n"
   ]
  },
  {
   "cell_type": "code",
   "execution_count": 17,
   "metadata": {
    "collapsed": false
   },
   "outputs": [
    {
     "data": {
      "text/plain": [
       "\u001b[32mimport \u001b[39m\u001b[36mSvgGraphs._\n",
       "\u001b[39m\n",
       "\u001b[36mbirdEdges\u001b[39m: \u001b[32mcollection\u001b[39m.\u001b[32mmutable\u001b[39m.\u001b[32mWrappedArray\u001b[39m[\u001b[32mEdge\u001b[39m] = \u001b[33mWrappedArray\u001b[39m(\n",
       "  \u001b[33mEdge\u001b[39m(\n",
       "    \u001b[33mNode\u001b[39m(\n",
       "      \u001b[32m\"Corvus splendens\"\u001b[39m,\n",
       "      \u001b[32m\"House Crow\"\u001b[39m,\n",
       "      \u001b[32m1.0\u001b[39m,\n",
       "      \u001b[32m0\u001b[39m,\n",
       "      \u001b[33mList\u001b[39m(),\n",
       "      \u001b[33mList\u001b[39m(),\n",
       "      \u001b[33mNodeState\u001b[39m(\n",
       "        \u001b[33mVector2D\u001b[39m(\u001b[32m-0.46186029030470177\u001b[39m, \u001b[32m-0.11642118604791263\u001b[39m),\n",
       "        \u001b[33mVector2D\u001b[39m(\u001b[32m0.0\u001b[39m, \u001b[32m0.0\u001b[39m),\n",
       "        \u001b[33mVector2D\u001b[39m(\u001b[32m0.0\u001b[39m, \u001b[32m0.0\u001b[39m)\n",
       "      )\n",
       "    ),\n",
       "    \u001b[33mNode\u001b[39m(\n",
       "      \u001b[32m\"Acridotheres tristis\"\u001b[39m,\n",
       "      \u001b[32m\"Common Myna\"\u001b[39m,\n",
       "      \u001b[32m1.0\u001b[39m,\n",
       "      \u001b[32m0\u001b[39m,\n",
       "      \u001b[33mList\u001b[39m(),\n",
       "      \u001b[33mList\u001b[39m(),\n",
       "      \u001b[33mNodeState\u001b[39m(\n",
       "        \u001b[33mVector2D\u001b[39m(\u001b[32m-0.3426308024603991\u001b[39m, \u001b[32m0.03834883675682399\u001b[39m),\n",
       "        \u001b[33mVector2D\u001b[39m(\u001b[32m0.0\u001b[39m, \u001b[32m0.0\u001b[39m),\n",
       "        \u001b[33mVector2D\u001b[39m(\u001b[32m0.0\u001b[39m, \u001b[32m0.0\u001b[39m)\n",
       "      )\n",
       "    ),\n",
       "    \u001b[32m0.5107823403997104\u001b[39m\n",
       "  ),\n",
       "  \u001b[33mEdge\u001b[39m(\n",
       "    \u001b[33mNode\u001b[39m(\n",
       "      \u001b[32m\"Corvus splendens\"\u001b[39m,\n",
       "      \u001b[32m\"House Crow\"\u001b[39m,\n",
       "      \u001b[32m1.0\u001b[39m,\n",
       "      \u001b[32m0\u001b[39m,\n",
       "      \u001b[33mList\u001b[39m(),\n",
       "      \u001b[33mList\u001b[39m(),\n",
       "      \u001b[33mNodeState\u001b[39m(\n",
       "..."
      ]
     },
     "execution_count": 17,
     "metadata": {},
     "output_type": "execute_result"
    }
   ],
   "source": [
    "import SvgGraphs._\n",
    "val birdEdges = for ((x, y) <- topPairs) yield Edge(Node(x, commonNames(x)), Node(y, commonNames(y)), coOccurence(x, y))"
   ]
  },
  {
   "cell_type": "code",
   "execution_count": 18,
   "metadata": {
    "collapsed": false
   },
   "outputs": [
    {
     "data": {
      "text/plain": [
       "\u001b[36mbirdGraph\u001b[39m: \u001b[32mSpringGraph\u001b[39m = at.ait.dme.forcelayout.SpringGraph@18fc811d"
      ]
     },
     "execution_count": 18,
     "metadata": {},
     "output_type": "execute_result"
    }
   ],
   "source": [
    "val birdGraph = new SpringGraph(birdNodes, birdEdges)"
   ]
  },
  {
   "cell_type": "code",
   "execution_count": 19,
   "metadata": {
    "collapsed": false
   },
   "outputs": [],
   "source": [
    "birdGraph.doLayout(maxIterations = 3000)\n"
   ]
  },
  {
   "cell_type": "code",
   "execution_count": 20,
   "metadata": {
    "collapsed": false
   },
   "outputs": [
    {
     "data": {
      "text/plain": [
       "\u001b[36mbirdTriples\u001b[39m: \u001b[32mVector\u001b[39m[(\u001b[32mDouble\u001b[39m, \u001b[32mDouble\u001b[39m, \u001b[32mString\u001b[39m)] = \u001b[33mVector\u001b[39m(\n",
       "  (\u001b[32m229.33188409839548\u001b[39m, \u001b[32m53.55100146792307\u001b[39m, \u001b[32m\"Alexandrine Parakeet\"\u001b[39m),\n",
       "  (\u001b[32m-16.26651944063152\u001b[39m, \u001b[32m-16.11762853523099\u001b[39m, \u001b[32m\"Large-billed Crow\"\u001b[39m),\n",
       "  (\u001b[32m98.83236131356345\u001b[39m, \u001b[32m-17.21625807371069\u001b[39m, \u001b[32m\"Great Egret\"\u001b[39m),\n",
       "  (\u001b[32m325.36296875307295\u001b[39m, \u001b[32m-32.9309891004183\u001b[39m, \u001b[32m\"Painted Stork\"\u001b[39m),\n",
       "  (\u001b[32m-93.27336880794569\u001b[39m, \u001b[32m63.82832671557065\u001b[39m, \u001b[32m\"Oriental White-eye\"\u001b[39m),\n",
       "  (\u001b[32m-646.2592527557554\u001b[39m, \u001b[32m3.9560150445509943\u001b[39m, \u001b[32m\"White-bellied Treepie\"\u001b[39m),\n",
       "  (\u001b[32m76.62537388155012\u001b[39m, \u001b[32m-25.912661581304285\u001b[39m, \u001b[32m\"Baya Weaver\"\u001b[39m),\n",
       "  (\u001b[32m-114.9119224520887\u001b[39m, \u001b[32m-59.58009955982886\u001b[39m, \u001b[32m\"Ashy Woodswallow\"\u001b[39m),\n",
       "  (\u001b[32m-116.97599912332045\u001b[39m, \u001b[32m-23.132571543062966\u001b[39m, \u001b[32m\"Tickell's Blue-Flycatcher\"\u001b[39m),\n",
       "  (\u001b[32m389.6187132948666\u001b[39m, \u001b[32m-4.869021082946961\u001b[39m, \u001b[32m\"Eurasian Spoonbill\"\u001b[39m),\n",
       "  (\u001b[32m-48.75849237510658\u001b[39m, \u001b[32m38.712297357600676\u001b[39m, \u001b[32m\"Thick-billed Flowerpecker\"\u001b[39m),\n",
       "  (\u001b[32m-253.96940563188662\u001b[39m, \u001b[32m112.94072076101104\u001b[39m, \u001b[32m\"Lesser Yellownape\"\u001b[39m),\n",
       "  (\u001b[32m-154.76456303769476\u001b[39m, \u001b[32m93.57422514734563\u001b[39m, \u001b[32m\"Verditer Flycatcher\"\u001b[39m),\n",
       "  (\u001b[32m-78.29102429947811\u001b[39m, \u001b[32m106.70222958121043\u001b[39m, \u001b[32m\"Brown-capped Woodpecker\"\u001b[39m),\n",
       "  (\u001b[32m613.2512223358352\u001b[39m, \u001b[32m128.14081411907424\u001b[39m, \u001b[32m\"Bank Myna\"\u001b[39m),\n",
       "  (\u001b[32m136.37647879884372\u001b[39m, \u001b[32m-6.517983650377522\u001b[39m, \u001b[32m\"Eurasian Marsh-Harrier\"\u001b[39m),\n",
       "  (\u001b[32m-236.4094682458705\u001b[39m, \u001b[32m52.66456515045657\u001b[39m, \u001b[32m\"Chestnut-headed Bee-eater\"\u001b[39m),\n",
       "  (\u001b[32m-166.41218522315938\u001b[39m, \u001b[32m-34.83078105005235\u001b[39m, \u001b[32m\"Blue-faced Malkoha\"\u001b[39m),\n",
       "  (\u001b[32m65.09349556441168\u001b[39m, \u001b[32m15.628021994693365\u001b[39m, \u001b[32m\"Red-breasted Flycatcher\"\u001b[39m),\n",
       "  (\u001b[32m54.85436611447646\u001b[39m, \u001b[32m-6.323597872879894\u001b[39m, \u001b[32m\"Pied Kingfisher\"\u001b[39m),\n",
       "  (\u001b[32m70.79768990741404\u001b[39m, \u001b[32m148.95236928637686\u001b[39m, \u001b[32m\"Oriental Turtle-Dove\"\u001b[39m),\n",
       "  (\u001b[32m-23.14192650984129\u001b[39m, \u001b[32m6.961276856852699\u001b[39m, \u001b[32m\"Tricolored Munia\"\u001b[39m),\n",
       "  (\u001b[32m-660.4601026815616\u001b[39m, \u001b[32m-52.87688151634292\u001b[39m, \u001b[32m\"Malabar Gray Hornbill\"\u001b[39m),\n",
       "  (\u001b[32m34.8052661450903\u001b[39m, \u001b[32m-30.28734259758301\u001b[39m, \u001b[32m\"Short-toed Snake-Eagle\"\u001b[39m),\n",
       "  (\u001b[32m-1298.8346728615443\u001b[39m, \u001b[32m-84.8329449697072\u001b[39m, \u001b[32m\"Southern Hill Myna\"\u001b[39m),\n",
       "  (\u001b[32m1200.0022775987873\u001b[39m, \u001b[32m455.00187891710743\u001b[39m, \u001b[32m\"Himalayan Bulbul\"\u001b[39m),\n",
       "  (\u001b[32m-131.5423536124429\u001b[39m, \u001b[32m36.15931898562869\u001b[39m, \u001b[32m\"Common Iora\"\u001b[39m),\n",
       "  (\u001b[32m-96.36394723850708\u001b[39m, \u001b[32m-14.935070070632918\u001b[39m, \u001b[32m\"Greenish Warbler\"\u001b[39m),\n",
       "  (\u001b[32m-23.788595350413082\u001b[39m, \u001b[32m-10.770311319359987\u001b[39m, \u001b[32m\"Bay-backed Shrike\"\u001b[39m),\n",
       "  (\u001b[32m-5.70348985771587\u001b[39m, \u001b[32m32.82948931288581\u001b[39m, \u001b[32m\"Greater Coucal\"\u001b[39m),\n",
       "  (\u001b[32m-74.87351661522064\u001b[39m, \u001b[32m24.467409850106606\u001b[39m, \u001b[32m\"Gray Wagtail\"\u001b[39m),\n",
       "  (\u001b[32m-20.173100608125814\u001b[39m, \u001b[32m42.94277939924116\u001b[39m, \u001b[32m\"Indian Gray Hornbill\"\u001b[39m),\n",
       "  (\u001b[32m-212.30055177881408\u001b[39m, \u001b[32m-32.69546972709276\u001b[39m, \u001b[32m\"Red Spurfowl\"\u001b[39m),\n",
       "  (\u001b[32m-148.26524162039152\u001b[39m, \u001b[32m3.5206763814674473\u001b[39m, \u001b[32m\"Stork-billed Kingfisher\"\u001b[39m),\n",
       "  (\u001b[32m273.1028308992301\u001b[39m, \u001b[32m-42.65257362848601\u001b[39m, \u001b[32m\"Bronze-winged Jacana\"\u001b[39m),\n",
       "  (\u001b[32m-872.6341265043908\u001b[39m, \u001b[32m-119.66955827072366\u001b[39m, \u001b[32m\"Orange Minivet\"\u001b[39m),\n",
       "  (\u001b[32m0.27018281358249396\u001b[39m, \u001b[32m-14.33322600911507\u001b[39m, \u001b[32m\"Red-wattled Lapwing\"\u001b[39m),\n",
       "  (\u001b[32m-123.63231292116787\u001b[39m, \u001b[32m-41.5723592232944\u001b[39m, \u001b[32m\"Pale-billed Flowerpecker\"\u001b[39m),\n",
       "..."
      ]
     },
     "execution_count": 20,
     "metadata": {},
     "output_type": "execute_result"
    }
   ],
   "source": [
    "val birdTriples = birdGraph.nodes.toVector map ((n) => (n.state.pos.x, n.state.pos.y, n.label))"
   ]
  },
  {
   "cell_type": "code",
   "execution_count": null,
   "metadata": {
    "collapsed": false
   },
   "outputs": [],
   "source": [
    "val bigBirdPlot = scatterPlot(birdTriples, width = 1200, height = 500, r = 2)"
   ]
  },
  {
   "cell_type": "markdown",
   "metadata": {},
   "source": [
    "### Co-occurence plots\n",
    "\n",
    "On hovering over points in the pictures below, we can see what bird they represent. One can wander around the picture to see how birds have clustered."
   ]
  },
  {
   "cell_type": "code",
   "execution_count": null,
   "metadata": {
    "collapsed": false,
    "scrolled": false
   },
   "outputs": [],
   "source": [
    "import almond.interpreter.api._\n",
    "val bBhtml = DisplayData.html(bigBirdPlot)\n",
    "display(bBhtml)"
   ]
  },
  {
   "cell_type": "markdown",
   "metadata": {},
   "source": [
    "To the right of the picture are himalayan birds, and to the left are those from Malabar. The lower part of the  main cluster is mainly water birds.\n",
    "\n",
    "As geographical factors dominate the picture, it is worth separating these from others such as habitats. To do this, we take a variant of co-occurence where we take the ratio of the probability of a pair of species occuring together to what the  probability would be if their occurence were independent _conditioned on the geographic distribution_."
   ]
  },
  {
   "cell_type": "code",
   "execution_count": null,
   "metadata": {
    "collapsed": false
   },
   "outputs": [],
   "source": [
    "val birdLocFreqF = data / \"bird-location-freqs.tsv\"\n",
    "val locFreqF = data / \"location-freqs.tsv\"\n",
    "\n",
    "val locationFreqs = read.lines(locFreqF) map(_.split(\"\\t\")) map {case Array(l, n) => (l, n.toInt)} toMap"
   ]
  },
  {
   "cell_type": "code",
   "execution_count": null,
   "metadata": {
    "collapsed": false
   },
   "outputs": [],
   "source": [
    "val birdLocFreqs = read.lines(birdLocFreqF) map(_.split(\"\\t\")) map {case Array(b, l, n) => ((b, l), n.toInt)} toMap"
   ]
  },
  {
   "cell_type": "code",
   "execution_count": null,
   "metadata": {
    "collapsed": false
   },
   "outputs": [],
   "source": [
    "val places = locationFreqs.keys.toVector"
   ]
  },
  {
   "cell_type": "code",
   "execution_count": null,
   "metadata": {
    "collapsed": false
   },
   "outputs": [],
   "source": [
    "def birdLocNum(bird: String, loc: String) = birdLocFreqs.getOrElse((bird, loc), 0).toDouble"
   ]
  },
  {
   "cell_type": "code",
   "execution_count": null,
   "metadata": {
    "collapsed": false
   },
   "outputs": [],
   "source": [
    "def pairInLoc(x: String, y: String, loc: String) = birdLocNum(x, loc) * birdLocNum(y, loc) / locationFreqs(loc)"
   ]
  },
  {
   "cell_type": "code",
   "execution_count": null,
   "metadata": {
    "collapsed": false
   },
   "outputs": [],
   "source": [
    "def seenSameLoc(x: String, y: String) = {places map (pairInLoc(x, y, _))}.sum"
   ]
  },
  {
   "cell_type": "code",
   "execution_count": null,
   "metadata": {
    "collapsed": false
   },
   "outputs": [],
   "source": [
    "def localCoOccurence(x: String, y: String) = bothSeen(x, y) / seenSameLoc(x, y)"
   ]
  },
  {
   "cell_type": "code",
   "execution_count": null,
   "metadata": {
    "collapsed": false
   },
   "outputs": [],
   "source": [
    "val byLocalCoOcc = {for{ (x, y) <- topPairs if seenSameLoc(x, y) > 0} yield \n",
    "                (x, y, localCoOccurence(x, y))} sortBy ((t) => -t._3)"
   ]
  },
  {
   "cell_type": "code",
   "execution_count": null,
   "metadata": {
    "collapsed": false
   },
   "outputs": [],
   "source": [
    "show(byLocalCoOcc map {case (x, y, n) => (commonNames(x), commonNames(y), n)} take 1000)"
   ]
  },
  {
   "cell_type": "code",
   "execution_count": null,
   "metadata": {
    "collapsed": false
   },
   "outputs": [],
   "source": [
    "val birdLocEdges = for ((x, y) <- topPairs) yield Edge(Node(x, commonNames(x)), Node(y, commonNames(y)), localCoOccurence(x, y))"
   ]
  },
  {
   "cell_type": "code",
   "execution_count": null,
   "metadata": {
    "collapsed": false
   },
   "outputs": [],
   "source": [
    "val birdLocGraph = new SpringGraph(birdNodes, birdLocEdges)"
   ]
  },
  {
   "cell_type": "code",
   "execution_count": null,
   "metadata": {
    "collapsed": false
   },
   "outputs": [],
   "source": [
    "birdLocGraph.doLayout(maxIterations = 3000)"
   ]
  },
  {
   "cell_type": "code",
   "execution_count": null,
   "metadata": {
    "collapsed": false
   },
   "outputs": [],
   "source": [
    "val birdLocTriples = birdLocGraph.nodes.toVector map ((n) => (n.state.pos.x, n.state.pos.y, n.label))"
   ]
  },
  {
   "cell_type": "code",
   "execution_count": null,
   "metadata": {
    "collapsed": false
   },
   "outputs": [],
   "source": [
    "val birdLocPlot = scatterPlot(birdLocTriples, width = 1200, height = 500, r = 2)"
   ]
  },
  {
   "cell_type": "code",
   "execution_count": null,
   "metadata": {
    "collapsed": false
   },
   "outputs": [],
   "source": [
    "display.html(birdLocPlot)"
   ]
  },
  {
   "cell_type": "markdown",
   "metadata": {},
   "source": [
    "Once the geography has been separated out, one can see that habitats dominate. On the left end are clearly waterbirds, on the right it appears that we have birds that are in forested areas."
   ]
  },
  {
   "cell_type": "markdown",
   "metadata": {},
   "source": [
    "### Concluding remarks:\n",
    "\n",
    "Given the limitations of the present e-bird data, it is clear that we cannot go much beyond this - indeed only the geographical regions and habitats that have the greatest impact on birds are visible. Nevertheless we speculate on analysis that can be done with more data of the same nature.\n",
    "\n",
    "* We can look for species A and B such that\n",
    "    * A and B are close in the force-directed graph, but\n",
    "    * A and B do not co-occur as much as expected given their proximity.\n",
    " \n",
    " such species are likely to be occupying the same niche.\n",
    " \n",
    " * As mentioned in the introduction, one can naturally partition into _geographical regions_, _habitats_ and even _micro-habitats_, with geographical region clustering based on geodata as well as clustering of co-occurences."
   ]
  }
 ],
 "metadata": {
  "kernelspec": {
   "display_name": "Scala",
   "language": "scala",
   "name": "scala"
  },
  "language_info": {
   "codemirror_mode": "text/x-scala",
   "file_extension": ".scala",
   "mimetype": "text/x-scala",
   "name": "scala",
   "nbconvert_exporter": "script",
   "version": "2.12.8"
  }
 },
 "nbformat": 4,
 "nbformat_minor": 2
}
